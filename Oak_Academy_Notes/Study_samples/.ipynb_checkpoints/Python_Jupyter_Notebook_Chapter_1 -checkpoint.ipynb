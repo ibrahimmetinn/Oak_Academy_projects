{
 "cells": [
  {
   "cell_type": "markdown",
   "id": "3e90142e",
   "metadata": {},
   "source": [
    "# REVIEW"
   ]
  },
  {
   "cell_type": "markdown",
   "id": "39d1adf2",
   "metadata": {},
   "source": [
    "# Examples\n"
   ]
  },
  {
   "cell_type": "code",
   "execution_count": 3,
   "id": "c31a3ac0",
   "metadata": {},
   "outputs": [
    {
     "name": "stdout",
     "output_type": "stream",
     "text": [
      "38\n"
     ]
    }
   ],
   "source": [
    "print(38)##Yukarıda görülen markdown özelliği gözükmekte eğer Markdown seçeneği seçer isek ve ayrıca # büyük header ##küçük header"
   ]
  },
  {
   "cell_type": "code",
   "execution_count": 1,
   "id": "cdd6309c",
   "metadata": {},
   "outputs": [
    {
     "name": "stdout",
     "output_type": "stream",
     "text": [
      "hello data science\n"
     ]
    }
   ],
   "source": [
    "print(\"hello data science\")"
   ]
  },
  {
   "cell_type": "code",
   "execution_count": 3,
   "id": "b726651e",
   "metadata": {},
   "outputs": [
    {
     "name": "stdout",
     "output_type": "stream",
     "text": [
      "Probably\n"
     ]
    },
    {
     "data": {
      "text/plain": [
       "'Muhtemelen'"
      ]
     },
     "execution_count": 3,
     "metadata": {},
     "output_type": "execute_result"
    }
   ],
   "source": [
    "print(\"Probably\")\n",
    "\"Muhtemelen\"  #burada ikinci olarak yazmış olduğumuz tırnak işareti de gözüktü \n"
   ]
  },
  {
   "cell_type": "code",
   "execution_count": 4,
   "id": "77296a0c",
   "metadata": {},
   "outputs": [
    {
     "name": "stdout",
     "output_type": "stream",
     "text": [
      "Respectabilty\n",
      "Flexibilty\n"
     ]
    },
    {
     "data": {
      "text/plain": [
       "'Esnek'"
      ]
     },
     "execution_count": 4,
     "metadata": {},
     "output_type": "execute_result"
    }
   ],
   "source": [
    "print(\"Respectabilty\")\n",
    "\"Saygınlık\"\n",
    "print(\"Flexibilty\") #burada şöyle bir durum var tırnak içerisinde print olarak yazmış olduğumuz fonksiyon eğer son kod satırında değilse çıktı olarak göstermiyor. \n",
    "                    #Bu nedenle print fonkisiyonu bizim içi çok önemlidir\n",
    "    \n",
    "\"Esnek\""
   ]
  },
  {
   "cell_type": "markdown",
   "id": "8696d63f",
   "metadata": {},
   "source": [
    "### TIRNAK MESELESİ\n",
    "### NAIL marking\n"
   ]
  },
  {
   "cell_type": "code",
   "execution_count": 5,
   "id": "42a6dd3e",
   "metadata": {},
   "outputs": [
    {
     "name": "stdout",
     "output_type": "stream",
     "text": [
      "Tied:Bağlamak\n",
      "Tidy:Düzenlemek\n",
      "\"Currently: Şu anda\n"
     ]
    }
   ],
   "source": [
    "print('Tied:Bağlamak')\n",
    "print(\"Tidy:Düzenlemek\")\n",
    "print(\"\"\"\"Currently: Şu anda\"\"\")"
   ]
  },
  {
   "cell_type": "markdown",
   "id": "2e43993b",
   "metadata": {},
   "source": [
    "#### Peki neden tırnak işaretleri var?\n",
    "### So why do we have quotation marks?"
   ]
  },
  {
   "cell_type": "code",
   "execution_count": 7,
   "id": "f6e76919",
   "metadata": {},
   "outputs": [
    {
     "name": "stdout",
     "output_type": "stream",
     "text": [
      "the name of the python programming language does not come from'Python Snake'\n"
     ]
    }
   ],
   "source": [
    "print(\"the name of the python programming language does not come from'Python Snake'\")#Burada Python snake yazısını tek tırnak içerisinde vermek zorundaydık \n",
    "# yoksa sistem hata veriyor "
   ]
  },
  {
   "cell_type": "code",
   "execution_count": 8,
   "id": "a4185eac",
   "metadata": {},
   "outputs": [],
   "source": [
    "#Birçok kesme işareti kullanılan cümlelerde o tırnak işaretini kullanmamak daha mantıklı olabilir\n",
    "#3 tırnak genellikle şekilli görseller oluşturmak için kullanılmaktadır.\n"
   ]
  },
  {
   "cell_type": "markdown",
   "id": "930f7cb9",
   "metadata": {},
   "source": [
    "## Basic Structure"
   ]
  },
  {
   "cell_type": "code",
   "execution_count": 10,
   "id": "ac632657",
   "metadata": {},
   "outputs": [],
   "source": [
    "#Bir çok veri tipi vardır bunlar; int string float\n",
    "#Bolean veri tipi 1 ve 0 ı temsil eder. (True ve False döndürür) Büyük harf küçük harf kullanımı önemlidir\n"
   ]
  },
  {
   "cell_type": "code",
   "execution_count": 11,
   "id": "9ec8100f",
   "metadata": {},
   "outputs": [
    {
     "data": {
      "text/plain": [
       "10"
      ]
     },
     "execution_count": 11,
     "metadata": {},
     "output_type": "execute_result"
    }
   ],
   "source": [
    "True*10"
   ]
  },
  {
   "cell_type": "code",
   "execution_count": 12,
   "id": "a333ccad",
   "metadata": {},
   "outputs": [
    {
     "data": {
      "text/plain": [
       "float"
      ]
     },
     "execution_count": 12,
     "metadata": {},
     "output_type": "execute_result"
    }
   ],
   "source": [
    "type(3.4)"
   ]
  },
  {
   "cell_type": "code",
   "execution_count": 13,
   "id": "28ab9ab9",
   "metadata": {},
   "outputs": [
    {
     "data": {
      "text/plain": [
       "bool"
      ]
     },
     "execution_count": 13,
     "metadata": {},
     "output_type": "execute_result"
    }
   ],
   "source": [
    "type(True)"
   ]
  },
  {
   "cell_type": "code",
   "execution_count": 14,
   "id": "bad95b40",
   "metadata": {},
   "outputs": [
    {
     "data": {
      "text/plain": [
       "str"
      ]
     },
     "execution_count": 14,
     "metadata": {},
     "output_type": "execute_result"
    }
   ],
   "source": [
    "type(\"Rıse\")"
   ]
  },
  {
   "cell_type": "markdown",
   "id": "f7fa4cf3",
   "metadata": {},
   "source": [
    "### Veriables"
   ]
  },
  {
   "cell_type": "code",
   "execution_count": 26,
   "id": "3695545b",
   "metadata": {},
   "outputs": [],
   "source": [
    "a=\"November\"\n",
    "b=3\n",
    "c=3.2\n",
    "d=False    #atama işlemleri"
   ]
  },
  {
   "cell_type": "code",
   "execution_count": 24,
   "id": "fc705327",
   "metadata": {},
   "outputs": [
    {
     "data": {
      "text/plain": [
       "9.600000000000001"
      ]
     },
     "execution_count": 24,
     "metadata": {},
     "output_type": "execute_result"
    }
   ],
   "source": [
    "b*c #matematiksel işlemler"
   ]
  },
  {
   "cell_type": "code",
   "execution_count": 25,
   "id": "5277db93",
   "metadata": {},
   "outputs": [],
   "source": [
    "#del(b) \n",
    "# b değişkenini siler. Tek sefer kullandıkdan sonra kod hata veriyor. Tekrar çalışmasını önlemek için yorum satırına çektim\n"
   ]
  },
  {
   "cell_type": "code",
   "execution_count": 30,
   "id": "50f932da",
   "metadata": {},
   "outputs": [
    {
     "name": "stdout",
     "output_type": "stream",
     "text": [
      "<class 'str'> <class 'int'> <class 'float'> <class 'bool'>\n"
     ]
    }
   ],
   "source": [
    "print(type(a),type(b),type(c),type(d));"
   ]
  },
  {
   "cell_type": "markdown",
   "id": "3f26e923",
   "metadata": {},
   "source": [
    "#### complex assignment procedures (kompleks atama işlemleri)"
   ]
  },
  {
   "cell_type": "code",
   "execution_count": 36,
   "id": "6b0d005f",
   "metadata": {},
   "outputs": [],
   "source": [
    "Januarry=March=May=July=Agust=October=December=31"
   ]
  },
  {
   "cell_type": "code",
   "execution_count": 35,
   "id": "51eeb4ef",
   "metadata": {},
   "outputs": [
    {
     "data": {
      "text/plain": [
       "31"
      ]
     },
     "execution_count": 35,
     "metadata": {},
     "output_type": "execute_result"
    }
   ],
   "source": [
    "July"
   ]
  },
  {
   "cell_type": "code",
   "execution_count": 37,
   "id": "bc34010d",
   "metadata": {},
   "outputs": [],
   "source": [
    "python,java=\"Data\",\"science\""
   ]
  },
  {
   "cell_type": "code",
   "execution_count": 38,
   "id": "e0037309",
   "metadata": {},
   "outputs": [
    {
     "name": "stdout",
     "output_type": "stream",
     "text": [
      "Data science\n"
     ]
    }
   ],
   "source": [
    "print(python,java)"
   ]
  },
  {
   "cell_type": "markdown",
   "id": "bd391d71",
   "metadata": {},
   "source": [
    "#### type transformations\n",
    "\n"
   ]
  },
  {
   "cell_type": "code",
   "execution_count": 39,
   "id": "ce877518",
   "metadata": {},
   "outputs": [],
   "source": [
    "a=\"November\"\n",
    "b=3\n",
    "c=3.2\n",
    "d=False    #atama işlemleri"
   ]
  },
  {
   "cell_type": "code",
   "execution_count": 42,
   "id": "51cdce11",
   "metadata": {},
   "outputs": [
    {
     "name": "stdout",
     "output_type": "stream",
     "text": [
      "<class 'str'> <class 'int'> <class 'float'> <class 'bool'>\n"
     ]
    }
   ],
   "source": [
    "print(type(a),type(b),type(c),type(d))"
   ]
  },
  {
   "cell_type": "code",
   "execution_count": 43,
   "id": "00f41962",
   "metadata": {},
   "outputs": [],
   "source": [
    "converted_a=str(b)"
   ]
  },
  {
   "cell_type": "code",
   "execution_count": 47,
   "id": "5388c9d6",
   "metadata": {},
   "outputs": [
    {
     "name": "stdout",
     "output_type": "stream",
     "text": [
      "str hali: 3\n"
     ]
    }
   ],
   "source": [
    "print(\"str hali:\",converted_a)"
   ]
  },
  {
   "cell_type": "code",
   "execution_count": 49,
   "id": "42f1d49b",
   "metadata": {},
   "outputs": [
    {
     "name": "stdout",
     "output_type": "stream",
     "text": [
      "str hali 3\n"
     ]
    }
   ],
   "source": [
    "print(\"str hali\",str(b))"
   ]
  },
  {
   "cell_type": "markdown",
   "id": "2fdc8362",
   "metadata": {},
   "source": [
    "## Matematical Operations"
   ]
  },
  {
   "cell_type": "code",
   "execution_count": 56,
   "id": "ec2ad055",
   "metadata": {},
   "outputs": [
    {
     "name": "stdout",
     "output_type": "stream",
     "text": [
      "8 MOD 2 : 0\n",
      "7852 MOD 7 : 5\n",
      "777885445 MOD 2 : 4\n"
     ]
    }
   ],
   "source": [
    "# % işareti mod olmamıza yaramaktadır\n",
    "print(\"8 MOD 2 :\",8 % 2 )\n",
    "print(\"7852 MOD 7 :\",7852 % 7)\n",
    "print(\"777885445 MOD 2 :\",7778854450 % 11)"
   ]
  },
  {
   "cell_type": "code",
   "execution_count": 62,
   "id": "e3f63beb",
   "metadata": {},
   "outputs": [
    {
     "name": "stdout",
     "output_type": "stream",
     "text": [
      "Tam kısmı 17\n",
      "Küsüratlı 17.076923076923077\n"
     ]
    }
   ],
   "source": [
    "8# floor division // işareti sayının tam kısmını getirir normal bölme işlemşinden farklı olarak\n",
    "print(\"Tam kısmı\",888 // 52)\n",
    "print(\"Küsüratlı\",888 / 52)"
   ]
  },
  {
   "cell_type": "code",
   "execution_count": 65,
   "id": "8e8d14ea",
   "metadata": {},
   "outputs": [
    {
     "name": "stdout",
     "output_type": "stream",
     "text": [
      "512\n"
     ]
    }
   ],
   "source": [
    "print(2**9) #üslü sayı işlemi"
   ]
  },
  {
   "cell_type": "code",
   "execution_count": 67,
   "id": "370cfc1e",
   "metadata": {},
   "outputs": [
    {
     "name": "stdout",
     "output_type": "stream",
     "text": [
      "150\n"
     ]
    }
   ],
   "source": [
    "x=100\n",
    "x+=50 #50 arttır\n",
    "print(x)"
   ]
  },
  {
   "cell_type": "code",
   "execution_count": 68,
   "id": "5bd86b35",
   "metadata": {},
   "outputs": [
    {
     "data": {
      "text/plain": [
       "87512.0"
      ]
     },
     "execution_count": 68,
     "metadata": {},
     "output_type": "execute_result"
    }
   ],
   "source": [
    "10**5*7/8+(10+2)"
   ]
  },
  {
   "cell_type": "markdown",
   "id": "694941f1",
   "metadata": {},
   "source": [
    "## print() fonksiyonu"
   ]
  },
  {
   "cell_type": "code",
   "execution_count": 80,
   "id": "e7f61b25",
   "metadata": {},
   "outputs": [
    {
     "name": "stdout",
     "output_type": "stream",
     "text": [
      "age:85\n",
      "Sentence:age\n",
      "This is my age:age:85\n"
     ]
    }
   ],
   "source": [
    "#print(*args, sep=' ', end='\\n', file=None, flush=False).\n",
    "#sep operatörü değişkenler arasına gelecek işaretleri temsil etmektedir otomatik olarak (' ') şeklinde gelir.\n",
    "#end operatörü print fonksiyonunun sonunda ne yapılacağını söyler. Otomatik olarak hiçbir değer girilmez ise \\n olarak kalır.\n",
    " #\\n operatörü aşağı satıra geçmek çin kullanılmaktadır.\n",
    "#input fonksiyonu burada kullanıcıdan girilen değeri simgelemektedir\n",
    "\n",
    "\n",
    "age=int(input(\"age:\",))\n",
    "Sentence=str(input(\"Sentence:\",))\n",
    "print(\"This is my age\",Sentence,age,sep=\":\",end='\\n')"
   ]
  },
  {
   "cell_type": "code",
   "execution_count": 85,
   "id": "60c93376",
   "metadata": {},
   "outputs": [
    {
     "name": "stdout",
     "output_type": "stream",
     "text": [
      "I wanna try|to do|sentence---> You are very good\n"
     ]
    }
   ],
   "source": [
    "#Cümle aralarına | işareri, en sona da ok ile yapılan hareketi göstermekteyim\n",
    "print(\"I wanna try\",\"to do\", \"sentence\",sep=\"|\", end=\"---> \")\n",
    "print(\"You are very good\")"
   ]
  },
  {
   "cell_type": "code",
   "execution_count": 89,
   "id": "ca082627",
   "metadata": {},
   "outputs": [
    {
     "name": "stdout",
     "output_type": "stream",
     "text": [
      "My name is ibrahim\n",
      " ı am from ısparta,\n",
      "  this is a city from middle of Turkeyi\b \n"
     ]
    }
   ],
   "source": [
    "#\\n---->alt satır\n",
    "#\\t---->4 boşluk\n",
    "#\\b---->backline yani 1 karakter siler\n",
    "print(\"My name is ibrahim\\n ı am from ısparta,\\n  this is a city from middle of Turkeyi\\b \")"
   ]
  },
  {
   "cell_type": "code",
   "execution_count": 93,
   "id": "5e589235",
   "metadata": {},
   "outputs": [
    {
     "name": "stdout",
     "output_type": "stream",
     "text": [
      "my name is ibrahim-b\n"
     ]
    }
   ],
   "source": [
    "print(\"my name is ibrahim\",\"b\",sep=\"-\")"
   ]
  },
  {
   "cell_type": "markdown",
   "id": "d91b0c39",
   "metadata": {},
   "source": [
    "## Bolean \n"
   ]
  },
  {
   "cell_type": "code",
   "execution_count": 95,
   "id": "d0445060",
   "metadata": {},
   "outputs": [
    {
     "name": "stdout",
     "output_type": "stream",
     "text": [
      "True\n"
     ]
    }
   ],
   "source": [
    "bool_examples=True or False\n",
    "print(bool_examples)"
   ]
  },
  {
   "cell_type": "code",
   "execution_count": 97,
   "id": "69d53db0",
   "metadata": {},
   "outputs": [
    {
     "name": "stdout",
     "output_type": "stream",
     "text": [
      "1\n"
     ]
    }
   ],
   "source": [
    "#TRUE =1 FALSE=0\n",
    "#sequence of operations (İşlem sırası)\n",
    "#1-parantez 2- NOT 3-OR 4-AND\n",
    "bool_examples2=True and False or True\n",
    "print(int(bool_examples2))"
   ]
  },
  {
   "cell_type": "code",
   "execution_count": 99,
   "id": "016f7aed",
   "metadata": {},
   "outputs": [
    {
     "name": "stdout",
     "output_type": "stream",
     "text": [
      "False\n",
      "0\n"
     ]
    }
   ],
   "source": [
    "#ikiside aynı fakat eğer fonksiyon içerisinde not kullanırsak bize bolean değer olarak dödürüyor.\n",
    "print(1 and  not 1)\n",
    "print(1 and 0)"
   ]
  },
  {
   "cell_type": "code",
   "execution_count": 109,
   "id": "3a4c73ff",
   "metadata": {},
   "outputs": [
    {
     "name": "stdout",
     "output_type": "stream",
     "text": [
      "germany\n"
     ]
    },
    {
     "data": {
      "text/plain": [
       "False"
      ]
     },
     "execution_count": 109,
     "metadata": {},
     "output_type": "execute_result"
    }
   ],
   "source": [
    "e=1 and \"italy\" and \"germany\"\n",
    "print(e)\n",
    "\"\" and \"italy\" and \"germany\"or not \"def\"\n"
   ]
  },
  {
   "cell_type": "code",
   "execution_count": null,
   "id": "64eb1bfa",
   "metadata": {},
   "outputs": [],
   "source": []
  },
  {
   "cell_type": "code",
   "execution_count": null,
   "id": "98f51eeb",
   "metadata": {},
   "outputs": [],
   "source": []
  }
 ],
 "metadata": {
  "kernelspec": {
   "display_name": "Python 3 (ipykernel)",
   "language": "python",
   "name": "python3"
  },
  "language_info": {
   "codemirror_mode": {
    "name": "ipython",
    "version": 3
   },
   "file_extension": ".py",
   "mimetype": "text/x-python",
   "name": "python",
   "nbconvert_exporter": "python",
   "pygments_lexer": "ipython3",
   "version": "3.11.5"
  }
 },
 "nbformat": 4,
 "nbformat_minor": 5
}
