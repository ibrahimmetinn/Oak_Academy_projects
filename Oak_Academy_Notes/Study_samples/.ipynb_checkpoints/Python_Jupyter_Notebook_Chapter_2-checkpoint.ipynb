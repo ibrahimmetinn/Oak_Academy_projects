{
 "cells": [
  {
   "cell_type": "markdown",
   "id": "96e19cbb",
   "metadata": {},
   "source": [
    "## STRING Method (11. bölüm)\n",
    "\n"
   ]
  },
  {
   "cell_type": "code",
   "execution_count": 3,
   "id": "ebd705f3",
   "metadata": {},
   "outputs": [
    {
     "data": {
      "text/plain": [
       "'hello bro'"
      ]
     },
     "execution_count": 3,
     "metadata": {},
     "output_type": "execute_result"
    }
   ],
   "source": [
    "\"hello\"+ \" bro\""
   ]
  },
  {
   "cell_type": "code",
   "execution_count": null,
   "id": "9b3b2cc6",
   "metadata": {},
   "outputs": [],
   "source": [
    "\"Atributes\"*3"
   ]
  },
  {
   "cell_type": "markdown",
   "id": "86405986",
   "metadata": {},
   "source": [
    "#### len()\n"
   ]
  },
  {
   "cell_type": "code",
   "execution_count": 8,
   "id": "dd24e1a6",
   "metadata": {},
   "outputs": [
    {
     "name": "stdout",
     "output_type": "stream",
     "text": [
      "10\n"
     ]
    }
   ],
   "source": [
    "#len() içerisindeki değerin uzunluğunu verir.\n",
    "job=\"journalist\"\n",
    "print(len(job))\n"
   ]
  },
  {
   "cell_type": "markdown",
   "id": "44ecb0df",
   "metadata": {},
   "source": [
    "## startswith() and endswith()\n",
    "###### startswith(x) x değeri ile mi başlıyor sorusu? True ya da False döndürür. SQL deki LIKE sorgusuna çok benziyor. \n",
    "###### SELECT * FROM table_name WHERE  name LIKE 'K%'||'%K' gibi\n",
    "Özellikle bütün veri arama sorgularında kullanılabilir"
   ]
  },
  {
   "cell_type": "code",
   "execution_count": 9,
   "id": "50a858b7",
   "metadata": {},
   "outputs": [],
   "source": [
    "#Örnek olarak aşağıdaki web sitesini ele alalım.\n",
    "Web_adress=\"https://ibrahimmetiin.blogspot.com/\""
   ]
  },
  {
   "cell_type": "code",
   "execution_count": 12,
   "id": "e47d9e6e",
   "metadata": {},
   "outputs": [
    {
     "name": "stdout",
     "output_type": "stream",
     "text": [
      "True\n",
      "False\n"
     ]
    }
   ],
   "source": [
    "\n",
    "print(Web_adress.startswith(\"https:\"))\n",
    "print(Web_adress.startswith(\"www\"))"
   ]
  },
  {
   "cell_type": "code",
   "execution_count": 14,
   "id": "72a558a5",
   "metadata": {},
   "outputs": [
    {
     "name": "stdout",
     "output_type": "stream",
     "text": [
      "False\n",
      "True\n"
     ]
    }
   ],
   "source": [
    "print(Web_adress.endswith(\"https:\"))\n",
    "print(Web_adress.endswith(\".com/\"))"
   ]
  },
  {
   "cell_type": "code",
   "execution_count": 19,
   "id": "2dc63393",
   "metadata": {},
   "outputs": [
    {
     "name": "stdout",
     "output_type": "stream",
     "text": [
      "True\n"
     ]
    }
   ],
   "source": [
    "#S.startswith(prefix[, start[, end]]) -> bool prefix---> ön ek demek\n",
    "print(Web_adress.startswith(\"ibrahim\",8,15))"
   ]
  },
  {
   "cell_type": "markdown",
   "id": "6d17446f",
   "metadata": {},
   "source": [
    "#### Yardım penceresinde [...] işareti opsiyonel olduğunu göstermektedir.\n",
    "Köşeli parantezler [...] ise bu parametrelerin opsionel olduğunu belirtir. Yani, bu parametreleri belirtmek zorunda değilsiniz; eğer belirtmezseniz, varsayılan değerler kullanılır. Eğer belirtirseniz, istediğiniz özel bir başlangıç veya bitiş konumu belirleyebilirsiniz.\n",
    "S.startswith(prefix[, start[, end]]) --->\n"
   ]
  },
  {
   "cell_type": "code",
   "execution_count": 27,
   "id": "75c82c9a",
   "metadata": {},
   "outputs": [
    {
     "name": "stdout",
     "output_type": "stream",
     "text": [
      "Goseph \n"
     ]
    }
   ],
   "source": [
    "#replace methodu name.replace(old,new,count=-1)\n",
    "\n",
    "name=\"Joseph \"\n",
    "name=str(name.replace(\"Jo\",\"Go\"))\n",
    "print(name)\n"
   ]
  },
  {
   "cell_type": "markdown",
   "id": "19b79728",
   "metadata": {},
   "source": [
    "#### swapcase(),capitalize(),upper(),lower(),title() Methodları\n"
   ]
  },
  {
   "cell_type": "code",
   "execution_count": 32,
   "id": "10cb3841",
   "metadata": {},
   "outputs": [],
   "source": [
    "#Methodlar . ile değişkene bağlanır\n",
    "test=\"Context:Baglam\""
   ]
  },
  {
   "cell_type": "code",
   "execution_count": 33,
   "id": "5c56b4f7",
   "metadata": {},
   "outputs": [
    {
     "name": "stdout",
     "output_type": "stream",
     "text": [
      "cONTEXT:bAGLAM\n"
     ]
    }
   ],
   "source": [
    "#swapcase() Büyük harfleri küçük küçük harfleri büyük  yapar\n",
    "test_swapcase=test.swapcase()\n",
    "print(Test_swapcase)\n"
   ]
  },
  {
   "cell_type": "code",
   "execution_count": 38,
   "id": "ce959f52",
   "metadata": {},
   "outputs": [
    {
     "name": "stdout",
     "output_type": "stream",
     "text": [
      "Context:baglam\n"
     ]
    }
   ],
   "source": [
    "#capitalize() #Girilmiş olan değerin baş harfini büyük yazar\n",
    "test_capitalize=test.capitalize()\n",
    "print(test_capitalize)"
   ]
  },
  {
   "cell_type": "code",
   "execution_count": 39,
   "id": "4a3415e3",
   "metadata": {},
   "outputs": [
    {
     "name": "stdout",
     "output_type": "stream",
     "text": [
      "CONTEXT:BAGLAM context:baglam Context:Baglam\n"
     ]
    }
   ],
   "source": [
    "#upper() tüm harfleri büyük yapar.\n",
    "#lower() tüm harfleri küçük yapar\n",
    "#title() Her kelimenin baş harfini büyük yapar\n",
    "test_upper=test.upper()\n",
    "test_lower=test.lower()\n",
    "test_title=test.title()\n",
    "print(test_upper,test_lower,test_title)"
   ]
  },
  {
   "cell_type": "markdown",
   "id": "86c75176",
   "metadata": {},
   "source": [
    "### strip() , rstrip() , lstrip()"
   ]
  },
  {
   "cell_type": "code",
   "execution_count": 41,
   "id": "cc0f0c7a",
   "metadata": {},
   "outputs": [
    {
     "name": "stdout",
     "output_type": "stream",
     "text": [
      "Besides\n"
     ]
    }
   ],
   "source": [
    "#strip değerin başındaki ve sonundaki boşlukları kaldırır.\n",
    "strip_test=\"   Besides   \"\n",
    "print(strip_test.strip())"
   ]
  },
  {
   "cell_type": "code",
   "execution_count": 42,
   "id": "73f18618",
   "metadata": {},
   "outputs": [
    {
     "name": "stdout",
     "output_type": "stream",
     "text": [
      "Besides   \n"
     ]
    }
   ],
   "source": [
    "#lstrip left stripten gelir sol taraftaki boşluğu siler\n",
    "print(strip_test.lstrip())"
   ]
  },
  {
   "cell_type": "code",
   "execution_count": 43,
   "id": "0e70dd63",
   "metadata": {},
   "outputs": [
    {
     "name": "stdout",
     "output_type": "stream",
     "text": [
      "   Besides\n"
     ]
    }
   ],
   "source": [
    "#rstrip right strip den gelir\n",
    "print(strip_test.rstrip())"
   ]
  },
  {
   "cell_type": "code",
   "execution_count": 44,
   "id": "e05fea8d",
   "metadata": {},
   "outputs": [
    {
     "name": "stdout",
     "output_type": "stream",
     "text": [
      "   BESIDES\n"
     ]
    }
   ],
   "source": [
    "#Biz bu methoda ek bir method daha  çağırabiliriz\n",
    "print(strip_test.rstrip().upper())"
   ]
  },
  {
   "cell_type": "markdown",
   "id": "bb643d58",
   "metadata": {},
   "source": [
    "# dir() methodu\n",
    "### dir() methodu değişken türüne göre hangi methodları kullanabileceğimizi gösterir:"
   ]
  },
  {
   "cell_type": "code",
   "execution_count": null,
   "id": "7622bea8",
   "metadata": {},
   "outputs": [],
   "source": []
  },
  {
   "cell_type": "code",
   "execution_count": 51,
   "id": "25e9e67e",
   "metadata": {},
   "outputs": [
    {
     "name": "stdout",
     "output_type": "stream",
     "text": [
      "Besides\n"
     ]
    }
   ],
   "source": [
    "result = strip_test.strip().translate(str.maketrans(\"\", \"\", \" \"))\n",
    "print(result)"
   ]
  },
  {
   "cell_type": "markdown",
   "id": "8ffddb38",
   "metadata": {},
   "source": [
    "# str değişkeni üzerinde kullanılacak methodlar ve anlamları:\n",
    "__add__(self, other): İki dizeyi birleştirmek için kullanılır.\n",
    "\n",
    "__class__: Nesnenin sınıfını temsil eder.\n",
    "\n",
    "__contains__(self, item): Belirli bir öğe, dizide (str içinde) bulunup bulunmadığını kontrol eder.\n",
    "\n",
    "__delattr__(self, name): Belirli bir özniteliği siler.\n",
    "\n",
    "__dir__: Bir nesnenin özniteliklerini ve yöntemlerini içeren bir liste döndürür.\n",
    "\n",
    "__doc__: Nesnenin belgelendirme dizesini temsil eder.\n",
    "\n",
    "__eq__(self, other): İki dizinin eşit olup olmadığını kontrol eder.\n",
    "\n",
    "__format__(self, format_spec): Dizeyi belirli bir biçimleme şartına göre biçimlendirir.\n",
    "\n",
    "__ge__(self, other): Büyük eşit (greater than or equal) karşılaştırma.\n",
    "\n",
    "__getattribute__(self, name): Belirli bir özniteliği alır.\n",
    "\n",
    "__getitem__(self, key): Belirli bir indeksteki öğeyi alır.\n",
    "\n",
    "__getnewargs__: __new__ metodunun argümanlarını alır.\n",
    "\n",
    "__getstate__: Nesnenin durumunu alır.\n",
    "\n",
    "__gt__(self, other): Büyük (greater than) karşılaştırma.\n",
    "\n",
    "__hash__(self): Nesneye özgü bir karma (hash) değeri üretir.\n",
    "\n",
    "__init__(self): Nesnenin başlatılması için kullanılan özel bir metod.\n",
    "\n",
    "__init_subclass__(...): Bir alt sınıfın başlatılması için kullanılan özel bir metod.\n",
    "\n",
    "__iter__(self): Döngüde kullanılabilir bir nesne oluşturur.\n",
    "\n",
    "__le__(self, other): Küçük eşit (less than or equal) karşılaştırma.\n",
    "\n",
    "__len__(self): Dizenin uzunluğunu döndürür.\n",
    "\n",
    "__lt__(self, other): Küçük (less than) karşılaştırma.\n",
    "\n",
    "__mod__(self, other): Dizeyi bir diğer dize ile biçimlendirmek için kullanılır.\n",
    "\n",
    "__mul__(self, other): Dizeyi belirli bir sayıda çoğaltmak için kullanılır.\n",
    "\n",
    "__ne__(self, other): İki dizinin eşit olup olmadığını kontrol eder.\n",
    "\n",
    "__new__(...): Nesnenin oluşturulması için kullanılan özel bir metod.\n",
    "\n",
    "__reduce__: pickle modülü tarafından kullanılan bir metod.\n",
    "\n",
    "__reduce_ex__: pickle modülü tarafından kullanılan bir metod.\n",
    "\n",
    "__repr__(self): Nesneyi temsil eden bir özel metod.\n",
    "\n",
    "__rmod__(self, other): Diğer bir nesneyi dizeyle biçimlendirmek için kullanılır.\n",
    "\n",
    "__rmul__(self, other): Diğer bir nesneyi belirli bir sayıda çoğaltmak için kullanılır.\n",
    "\n",
    "__setattr__(self, name, value): Belirli bir özniteliği ayarlar.\n",
    "\n",
    "__sizeof__(self): Nesnenin bellek boyutunu döndürür.\n",
    "\n",
    "__str__(self): Nesneyi bir dizeye çevirir.\n",
    "\n",
    "__subclasshook__: Bir sınıfın alt sınıf olup olmadığını kontrol eden bir metod.\n",
    "\n",
    "__capitalize()__: Dizenin ilk karakterini büyük yapar.\n",
    "\n",
    "casefold(): Dizeyi küçük harfe dönüştürür, ancak bazı ek karakterleri de dikkate alır.\n",
    "\n",
    "center(width[, fillchar]): Dizeyi belirli bir genişlikte ortalamak için kullanılır.\n",
    "\n",
    "count(sub[, start[, end]]): Belirli bir alt dizenin tekrar sayısını sayar.\n",
    "\n",
    "encode([encoding[, errors]]): Dizeyi belirtilen karakter kodlamasıyla kodlar.\n",
    "\n",
    "endswith(suffix[, start[, end]]): Dize, belirli bir alt dize ile bitiyor mu kontrol eder.\n",
    "expandtabs([tabsize]): Dize içindeki sekme karakterlerini belirli bir uzunluktaki boşluklarla değiştirir.\n",
    "\n",
    "find(sub[, start[, end]]): Belirli bir alt dizenin ilk indeksini bulur. Eğer bulunamazsa -1 döndürür.\n",
    "\n",
    "format(*args, **kwargs): Dizeyi belirtilen değerlerle biçimlendirir.\n",
    "\n",
    "format_map(mapping): Dizeyi belirli bir eşlemeye (mapping) dayanarak biçimlendirir.\n",
    "\n",
    "index(sub[, start[, end]]): Belirli bir alt dizenin ilk indeksini bulur. Eğer bulunamazsa ValueError fırlatır.\n",
    "\n",
    "isalnum(): Dize yalnızca alfasayısal karakterlerden oluşuyor mu kontrol eder.\n",
    "\n",
    "isalpha(): Dize yalnızca alfabetik karakterlerden oluşuyor mu kontrol eder.\n",
    "\n",
    "isascii(): Dize yalnızca ASCII karakterlerinden oluşuyor mu kontrol eder.\n",
    "\n",
    "isdecimal(): Dize yalnızca ondalık rakamlardan oluşuyor mu kontrol eder.\n",
    "\n",
    "isdigit(): Dize yalnızca rakamlardan oluşuyor mu kontrol eder.\n",
    "\n",
    "isidentifier(): Dize bir Python kimliği (identifier) olarak kullanılabilir mi kontrol eder.\n",
    "\n",
    "islower(): Dize yalnızca küçük harf içeriyor mu kontrol eder.\n",
    "\n",
    "isnumeric(): Dize yalnızca sayısal karakterler içeriyor mu kontrol eder.\n",
    "\n",
    "isprintable(): Dize ekrana yazdırılabilir mi kontrol eder.\n",
    "\n",
    "isspace(): Dize yalnızca boşluk karakterlerinden oluşuyor mu kontrol eder.\n",
    "\n",
    "istitle(): Dize başlık biçimine uygun mu kontrol eder.\n",
    "\n",
    "isupper(): Dize yalnızca büyük harf içeriyor mu kontrol eder.\n",
    "\n",
    "join(iterable): Bir dize içindeki öğeleri belirli bir ayırıcı ile birleştirir.\n",
    "\n",
    "ljust(width[, fillchar]): Dizeyi belirli bir genişlikte sola yaslar ve belirli bir karakterle doldurur.\n",
    "\n",
    "lower(): Dizeyi küçük harfe dönüştürür.\n",
    "\n",
    "lstrip([chars]): Dizenin sol tarafındaki belirli karakterleri kaldırır.\n",
    "\n",
    "maketrans(x[, y[, z]]): translate() metodu için çeviri tablosu oluşturur.\n",
    "\n",
    "partition(sep): Dizeyi belirli bir ayırıcı ile üç parçaya böler.\n",
    "\n",
    "removeprefix(prefix): Dizenin belirli bir öneki kaldırır.\n",
    "\n",
    "removesuffix(suffix): Dizenin belirli bir sonekini kaldırır.\n",
    "\n",
    "replace(old, new[, count]): Dize içinde belirli bir alt dizeyi başka bir alt dizeyle değiştirir.\n",
    "\n",
    "rfind(sub[, start[, end]]): Belirli bir alt dizenin en sağdaki indeksini bulur. Eğer bulunamazsa -1 döndürür.\n",
    "\n",
    "rindex(sub[, start[, end]]): Belirli bir alt dizenin en sağdaki indeksini bulur. Eğer bulunamazsa ValueError fırlatır.\n",
    "\n",
    "rjust(width[, fillchar]): Dizeyi belirli bir genişlikte sağa yaslar ve belirli bir karakterle doldurur.\n",
    "\n",
    "rpartition(sep): Dizeyi belirli bir ayırıcı ile üç parçaya böler, en sağdaki ayırıcıya göre.\n",
    "\n",
    "rsplit([sep[, maxsplit]]): Dizeyi belirli bir ayırıcı ile böler, sağdan sola doğru.\n",
    "\n",
    "rstrip([chars]): Dizenin sağ tarafındaki belirli karakterleri kaldırır.\n",
    "\n",
    "split([sep[, maxsplit]]): Dizeyi belirli bir ayırıcı ile böler.\n",
    "\n",
    "splitlines([keepends]): Dizeyi satırlara böler ve satır sonu karakterlerini içerip içermediğini kontrol eder.\n",
    "\n",
    "startswith(prefix[, start[, end]]): Dize belirli bir önek ile başlıyor mu kontrol eder.\n",
    "\n",
    "strip([chars]): Dizenin başındaki ve sonundaki belirli karakterleri kaldırır.\n",
    "\n",
    "swapcase(): Dizenin büyük harflerini küçük, küçük harflerini büyük yapar.\n",
    "\n",
    "title(): Dizeyi başlık biçimine getirir.\n",
    "\n",
    "translate(table): Dizeyi bir çeviri tablosuna göre çevirir.\n",
    "\n",
    "upper(): Dizeyi büyük harfe dönüştürür.\n",
    "\n",
    "zfill(width): Dizeyi belirli bir genişlikte sıfır (0) karakterleri ile doldurur."
   ]
  },
  {
   "cell_type": "markdown",
   "id": "f6b4be34",
   "metadata": {},
   "source": [
    "## Samples "
   ]
  },
  {
   "cell_type": "code",
   "execution_count": 62,
   "id": "63557a93",
   "metadata": {},
   "outputs": [],
   "source": [
    "Features=\"Özellikler\"\n",
    "Encapsulute=\"Kapsullemek\"\n",
    "Temporal=\"Geçici\""
   ]
  },
  {
   "cell_type": "code",
   "execution_count": 64,
   "id": "3d0d3e5a",
   "metadata": {},
   "outputs": [
    {
     "data": {
      "text/plain": [
       "False"
      ]
     },
     "execution_count": 64,
     "metadata": {},
     "output_type": "execute_result"
    }
   ],
   "source": [
    "#isdigit\n",
    "Temporal.isdigit()"
   ]
  },
  {
   "cell_type": "markdown",
   "id": "22e8a9c2",
   "metadata": {},
   "source": [
    "   ### .format() \n",
    "   Dize içerisinde belirli konumlarda şarta göre biçimlendirme yapar.\n",
    "   \n",
    "   ##### *args kullanımı ( Yer tutucular konumsal argümanlarla yer tutar)"
   ]
  },
  {
   "cell_type": "code",
   "execution_count": 69,
   "id": "06c54873",
   "metadata": {},
   "outputs": [
    {
     "name": "stdout",
     "output_type": "stream",
     "text": [
      "Merhaba, benim adım Ahmet, yaşım 25 ve mesleğim Mühendis.\n"
     ]
    }
   ],
   "source": [
    "\n",
    "template = \"Merhaba, benim adım {}, yaşım {} ve mesleğim {}.\"\n",
    "\n",
    "# *args kullanımı\n",
    "formatted_string_args = template.format(\"Ahmet\", 25, \"Mühendis\")\n",
    "print(formatted_string_args)\n",
    "# \"Merhaba, benim adım Ahmet, yaşım 25 ve mesleğim Mühendis.\"\n"
   ]
  },
  {
   "cell_type": "markdown",
   "id": "bacff133",
   "metadata": {},
   "source": [
    "##### **kwargs kullanımı (Yer tutucular konumsal argümanlarla değil, kwargs ile belirtilir)"
   ]
  },
  {
   "cell_type": "code",
   "execution_count": 77,
   "id": "65139ac1",
   "metadata": {
    "scrolled": true
   },
   "outputs": [
    {
     "name": "stdout",
     "output_type": "stream",
     "text": [
      "What is your name:ibrahim\n",
      "age:26\n",
      "occupation:data analiz uzmanı\n",
      "Merhaba, benim adım ibrahim, yaşım 26 ve mesleğim data analiz uzmanı.\n"
     ]
    }
   ],
   "source": [
    "template = \"Merhaba, benim adım {name}, yaşım {age} ve mesleğim {occupation}.\"\n",
    "\n",
    "# Kullanıcıdan input alarak değerleri alın\n",
    "name = input('What is your name:')\n",
    "age = int(input('age:'))\n",
    "occupation = input(\"occupation:\")\n",
    "\n",
    "# format() metodunu kullanarak dizeyi biçimlendirin\n",
    "formatted_string_kwargs = template.format(name=name, age=age, occupation=occupation)\n",
    "\n",
    "print(formatted_string_kwargs)\n"
   ]
  },
  {
   "cell_type": "markdown",
   "id": "3d93a3c8",
   "metadata": {},
   "source": [
    "## İndex nedir? \n",
    "index bir değişkenin bulunduğu konum olduğunu söyleyebiliriz. 0 dan başlar\n",
    "[index_no]"
   ]
  },
  {
   "cell_type": "code",
   "execution_count": 122,
   "id": "c2a7e85d",
   "metadata": {
    "scrolled": true
   },
   "outputs": [
    {
     "name": "stdout",
     "output_type": "stream",
     "text": [
      "s\n",
      "su\n",
      "su_anda\n",
      "0. indeksten 8 . indekse kadar 2 ser atlayarak gider::----> s_na\n",
      "Son harfini siler su_and\n",
      "adna_us\n",
      "3. index a\n",
      "an_s\n"
     ]
    }
   ],
   "source": [
    "currently=\"su_anda\"\n",
    "print(currently[0])\n",
    "print(currently[0:2])\n",
    "print(currently[0:40])\n",
    "print('0. indeksten 8 . indekse kadar 2 ser atlayarak gider::---->',currently[0:8:2])\n",
    "print(\"Son harfini siler\",currently[0:-1])\n",
    "#tersine çevirir\n",
    "print(currently[::-1])\n",
    "print(\"3. index\",currently[3])\n",
    "print(currently[::-2])"
   ]
  },
  {
   "cell_type": "markdown",
   "id": "c4a87ccf",
   "metadata": {},
   "source": [
    "### Aritmatik işlemler\n"
   ]
  },
  {
   "cell_type": "code",
   "execution_count": 11,
   "id": "2e1f583b",
   "metadata": {},
   "outputs": [
    {
     "name": "stdout",
     "output_type": "stream",
     "text": [
      "G a l a t a s a r a y\n",
      "G\n",
      "a\n",
      "l\n",
      "a\n",
      "t\n",
      "a\n",
      "s\n",
      "a\n",
      "r\n",
      "a\n",
      "y\n",
      "----------------------------------------------------------------------------------------------------\n",
      "G-a-l-a-t-a-s-a-r-a-y-G-a-l-a-t-a-s-a-r-a-y-G-a-l-a-t-a-s-a-r-a-y\n"
     ]
    }
   ],
   "source": [
    "SPL=\"Galatasaray\"\n",
    "print(*SPL)\n",
    "print(*SPL,sep=\"\\n\")\n",
    "print(\"----------------------------------------------------------------------------------------------------\")\n",
    "print(*SPL*3,sep=\"-\",end=\"\\n\")\n",
    "\n"
   ]
  },
  {
   "cell_type": "markdown",
   "id": "6bb91b35",
   "metadata": {},
   "source": [
    "# % Operatörlerleri \n",
    "__%s__ ---string\n",
    "__%d__ ---digit\n",
    "__%f__ --- float (%.2f şeklinde kullanılır genellikle çünkü 2 sayısı sadece virgülden sonraki 2 basamağı gösterir.)"
   ]
  },
  {
   "cell_type": "code",
   "execution_count": 36,
   "id": "a529d357",
   "metadata": {},
   "outputs": [
    {
     "name": "stdout",
     "output_type": "stream",
     "text": [
      "Name:ibrahim\n",
      "Age:26\n",
      "Weight:90\n",
      "Height:1.82\n",
      "Hi my name is ibrahim. I am 26 years old. My weight and height are 90 kg and  1 cm. Your weight_index  27.171\n",
      "RESULTS:\n",
      "a little overweight\n"
     ]
    }
   ],
   "source": [
    "sentence=\"Hi my name is %s. I am %d years old. My weight and height are %d kg and % d cm. Your weight_index % .3f\"\n",
    "Name=str(input(\"Name:\",))\n",
    "Age=int(input(\"Age:\",))\n",
    "Weight=int(input(\"Weight:\",))\n",
    "Height=float(input(\"Height:\",))\n",
    "Your_index=Weight/(Height**2)\n",
    "print(sentence%(Name,Age,Weight,Height,Your_index))\n",
    "print(\"RESULTS:\")\n",
    "\n",
    "if 30>Your_index>25:\n",
    "    print(\"a little overweight\")\n",
    "elif Your_index>30:\n",
    "    print(\"You are fat\")\n",
    "elif 20<Your_index<25:\n",
    "    print(\"You are normal\")\n",
    "elif Your_index<20:\n",
    "    print(\"You are weak\")"
   ]
  },
  {
   "cell_type": "markdown",
   "id": "9101657c",
   "metadata": {},
   "source": [
    "# string .format methodu farklı kullanımlar \n",
    "Bu konuyu anlamak çok önemlidir.\n",
    "\n",
    "\n",
    "__Dolar kuru hesaplama__"
   ]
  },
  {
   "cell_type": "code",
   "execution_count": 44,
   "id": "ec516be7",
   "metadata": {},
   "outputs": [
    {
     "name": "stdout",
     "output_type": "stream",
     "text": [
      "Dolar(Sayı olarak giriniz):500\n",
      "500 dolar 15340.0 tl eder. \n"
     ]
    }
   ],
   "source": [
    "import requests\n",
    "\n",
    "def get_live_exchange_rate():\n",
    "    # Örnek olarak \"https://api.exchangerate-api.com/v4/latest/USD\" API'sini kullanıyoruz.\n",
    "    # Siz kendi kullanacağınız API'ye göre bu URL'yi güncellemelisiniz.\n",
    "    api_url = \"https://api.exchangerate-api.com/v4/latest/USD\"\n",
    "\n",
    "    try:\n",
    "        response = requests.get(api_url)\n",
    "        data = response.json()\n",
    "\n",
    "        # USD - TRY döviz kuru\n",
    "        usd_to_try_rate = data['rates']['TRY']\n",
    "\n",
    "        return usd_to_try_rate\n",
    "\n",
    "    except Exception as e:\n",
    "        print(f\"Hata: {e}\")\n",
    "        return None\n",
    "#Canlı olarak döviz kur fiyatını al.   \n",
    "exchange_rate = get_live_exchange_rate()\n",
    "#{1}--->1.indexi buraya yaz\n",
    "#{0}--->0. indexi buraya yaz\n",
    "sentence_1= \"{1} dolar {0} tl eder. \"\n",
    "dolar=int(input(\"Dolar(Sayı olarak giriniz):\"))\n",
    "tl=exchange_rate*dolar\n",
    "\n",
    "print(sentence_1.format(tl,dolar))"
   ]
  },
  {
   "cell_type": "markdown",
   "id": "64a1a590",
   "metadata": {},
   "source": [
    "##### Kitap ismi yazarı "
   ]
  },
  {
   "cell_type": "code",
   "execution_count": 46,
   "id": "7274c8cf",
   "metadata": {},
   "outputs": [
    {
     "name": "stdout",
     "output_type": "stream",
     "text": [
      "Kürk mantolu Madonna  isimli kitabın 150 sayfa sayısı vardır.\n"
     ]
    }
   ],
   "source": [
    "book=\"{} isimli kitabın {} sayfa sayısı vardır.\"\n",
    "book_name=\"Kürk mantolu Madonna \"\n",
    "book_page_count=150\n",
    "print(book.format(book_name,book_page_count))"
   ]
  },
  {
   "cell_type": "markdown",
   "id": "4fd2dace",
   "metadata": {},
   "source": [
    "# f' string formating\n"
   ]
  },
  {
   "cell_type": "code",
   "execution_count": 49,
   "id": "a8b775d1",
   "metadata": {},
   "outputs": [
    {
     "name": "stdout",
     "output_type": "stream",
     "text": [
      "Galatasaray takımının 23 adet şampiyonluk sayısı vardır.\n"
     ]
    }
   ],
   "source": [
    "team=\"Galatasaray\"\n",
    "champions_count=23\n",
    "print(f\"{team} takımının {champions_count} adet şampiyonluk sayısı vardır.\")"
   ]
  },
  {
   "cell_type": "code",
   "execution_count": 50,
   "id": "ec21ed92",
   "metadata": {},
   "outputs": [
    {
     "name": "stdout",
     "output_type": "stream",
     "text": [
      "23\n",
      "Galatasaray takımının 1.0 adet şampiyonluk sayısı vardır.\n"
     ]
    }
   ],
   "source": [
    "#Süslü parantez içerisinde işlemler de yapabiliyoruz.\n",
    "team=\"Galatasaray\"\n",
    "champions_count=23\n",
    "print(f\"{team} takımının {champions_count/int(input())} adet şampiyonluk sayısı vardır.\")"
   ]
  },
  {
   "cell_type": "code",
   "execution_count": 51,
   "id": "be3929f5",
   "metadata": {},
   "outputs": [
    {
     "name": "stdout",
     "output_type": "stream",
     "text": [
      "I live\n"
     ]
    }
   ],
   "source": [
    "a=\"i LıVe\"\n",
    "print(a.swapcase().title().capitalize())"
   ]
  },
  {
   "cell_type": "code",
   "execution_count": null,
   "id": "3f6ddcd0",
   "metadata": {},
   "outputs": [],
   "source": []
  }
 ],
 "metadata": {
  "kernelspec": {
   "display_name": "Python 3 (ipykernel)",
   "language": "python",
   "name": "python3"
  },
  "language_info": {
   "codemirror_mode": {
    "name": "ipython",
    "version": 3
   },
   "file_extension": ".py",
   "mimetype": "text/x-python",
   "name": "python",
   "nbconvert_exporter": "python",
   "pygments_lexer": "ipython3",
   "version": "3.11.5"
  }
 },
 "nbformat": 4,
 "nbformat_minor": 5
}
