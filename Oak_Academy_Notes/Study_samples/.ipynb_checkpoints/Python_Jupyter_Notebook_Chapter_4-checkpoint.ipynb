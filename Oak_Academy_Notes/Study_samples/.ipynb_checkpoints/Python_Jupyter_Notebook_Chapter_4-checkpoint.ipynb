{
 "cells": [
  {
   "cell_type": "markdown",
   "id": "a7a596f1",
   "metadata": {},
   "source": [
    "# conditional structures (Bölüm 16)\n"
   ]
  },
  {
   "cell_type": "code",
   "execution_count": 1,
   "id": "dd34d232",
   "metadata": {},
   "outputs": [
    {
     "name": "stdout",
     "output_type": "stream",
     "text": [
      "True\n"
     ]
    }
   ],
   "source": [
    "#comparison operators (karşılaştırma operatörleri)\n",
    "\n",
    "print(8>4)"
   ]
  },
  {
   "cell_type": "code",
   "execution_count": 2,
   "id": "d172fb50",
   "metadata": {},
   "outputs": [
    {
     "name": "stdout",
     "output_type": "stream",
     "text": [
      "True\n"
     ]
    }
   ],
   "source": [
    "print(3==(9/3))"
   ]
  },
  {
   "cell_type": "code",
   "execution_count": 4,
   "id": "9f4d902f",
   "metadata": {},
   "outputs": [
    {
     "name": "stdout",
     "output_type": "stream",
     "text": [
      "True\n"
     ]
    }
   ],
   "source": [
    "print((2**96)!=(958*988))"
   ]
  },
  {
   "cell_type": "code",
   "execution_count": 5,
   "id": "e56e014e",
   "metadata": {},
   "outputs": [
    {
     "name": "stdout",
     "output_type": "stream",
     "text": [
      "True\n"
     ]
    }
   ],
   "source": [
    "print(\"way\"==\"way\")"
   ]
  },
  {
   "cell_type": "code",
   "execution_count": 6,
   "id": "64e5d9af",
   "metadata": {},
   "outputs": [
    {
     "name": "stdout",
     "output_type": "stream",
     "text": [
      "True\n"
     ]
    }
   ],
   "source": [
    "print(\"join\"!=\"current\")"
   ]
  },
  {
   "cell_type": "markdown",
   "id": "f0c02b61",
   "metadata": {},
   "source": [
    "### if-elif-else"
   ]
  },
  {
   "cell_type": "code",
   "execution_count": 8,
   "id": "2c6082c4",
   "metadata": {},
   "outputs": [
    {
     "name": "stdout",
     "output_type": "stream",
     "text": [
      "Aldığı ücret:1520\n",
      "maddi destek verilmeli\n"
     ]
    }
   ],
   "source": [
    "#SENARYO 1 -MADDİ DESTEK UYGULAMASI\n",
    "calisan=int(input(\"Aldığı ücret:\"))\n",
    "\n",
    "if calisan < 3500:\n",
    "    print(\"maddi_destek_verilmeli\")\n",
    "else:\n",
    "    print(\"Ailenin_maddi_durumu_yeterli\")"
   ]
  },
  {
   "cell_type": "code",
   "execution_count": 11,
   "id": "2ae6ba0d",
   "metadata": {},
   "outputs": [
    {
     "name": "stdout",
     "output_type": "stream",
     "text": [
      "Wage_received_male:2000\n",
      "Wage_received_male:1500\n",
      "woaaw\n"
     ]
    }
   ],
   "source": [
    "family_1=int(input(\"Wage_received_male:\"))\n",
    "family_2=int(input(\"Wage_received_male:\"))\n",
    "if (family_1+family_2)<3500:\n",
    "    print(\"financal_support_needed\")\n",
    "elif (family_1+family_2)==3500:\n",
    "    print(\"woaaw\")\n",
    "else:\n",
    "    print(\"financal_support_no_needed\")"
   ]
  },
  {
   "cell_type": "markdown",
   "id": "c59fec6b",
   "metadata": {},
   "source": [
    "### in operatörü\n"
   ]
  },
  {
   "cell_type": "code",
   "execution_count": 45,
   "id": "749d5875",
   "metadata": {},
   "outputs": [
    {
     "ename": "NameError",
     "evalue": "name 'getMaxValue' is not defined",
     "output_type": "error",
     "traceback": [
      "\u001b[1;31m---------------------------------------------------------------------------\u001b[0m",
      "\u001b[1;31mNameError\u001b[0m                                 Traceback (most recent call last)",
      "Cell \u001b[1;32mIn[45], line 2\u001b[0m\n\u001b[0;32m      1\u001b[0m list1\u001b[38;5;241m=\u001b[39m[\u001b[38;5;241m1\u001b[39m,\u001b[38;5;241m2\u001b[39m,\u001b[38;5;241m3\u001b[39m,\u001b[38;5;241m4\u001b[39m,\u001b[38;5;241m5\u001b[39m,\u001b[38;5;241m6\u001b[39m,\u001b[38;5;241m7\u001b[39m]\n\u001b[1;32m----> 2\u001b[0m getMaxValue(list1)\n",
      "\u001b[1;31mNameError\u001b[0m: name 'getMaxValue' is not defined"
     ]
    }
   ],
   "source": [
    "list1=[1,2,3,4,5,6,7]\n"
   ]
  },
  {
   "cell_type": "markdown",
   "id": "c9a1b7f2",
   "metadata": {},
   "source": [
    "# Güzel bir örnek while döngü if-else yapısı, try except yapısı, f string yapısı, break döngü sonlandırma yapısı\n"
   ]
  },
  {
   "cell_type": "code",
   "execution_count": 1,
   "id": "ce9b8bc2",
   "metadata": {},
   "outputs": [
    {
     "name": "stdout",
     "output_type": "stream",
     "text": [
      "Name:ibrahim\n",
      "Age:25\n",
      "What is your gender:(M/F)M\n",
      "That is awesome. You can pass\n",
      "Hello everyone my name is ibrahim.My gender is M and I am 25 years old.\n"
     ]
    }
   ],
   "source": [
    "\n",
    "groupM=\"M\"\n",
    "groupF=\"F\"\n",
    "\n",
    "first_customer_name=str(input(\"Name:\",))\n",
    "age=int(int(input(\"Age:\",)))\n",
    "\n",
    "\n",
    "while True:\n",
    "    try:\n",
    "        # Kullanıcıdan bir sayı girmesini iste\n",
    "        Gender=str(input(\"What is your gender:(M/F)\",))\n",
    "        \n",
    "        if Gender in (groupM,groupF):\n",
    "            if Gender in groupM:\n",
    "                if age<18:\n",
    "                    print(\"You are too young. Unfortunately you can't pass.\")\n",
    "                    break  \n",
    "                elif 18<age<60:\n",
    "                    print(\"That is awesome. You can pass\")\n",
    "                    break  \n",
    "                else:\n",
    "                    print(\"You are too old. You can't pass boomer.\")\n",
    "                    break\n",
    "            else:\n",
    "                if age<20:\n",
    "                    print(\"You are too young. Unfortunately you can't pass.\")\n",
    "                    break\n",
    "                elif 18<age<55:\n",
    "                    print(\"That is awesome. You can pass\")\n",
    "                    break  \n",
    "                else:\n",
    "                    print(\"You are too old. You can't pass boomer.\")\n",
    "                    break  \n",
    "        else:\n",
    "            print(\"Wrong format try again.\")\n",
    "    except ValueError:\n",
    "        print(\"Lütfen geçerli bir sayı girin.\")\n",
    "            \n",
    "\n",
    "print(f\"Hello everyone my name is {first_customer_name}.My gender is {Gender} and I am {age} years old.\",end=\"\\n\")\n",
    "\n"
   ]
  },
  {
   "cell_type": "code",
   "execution_count": 3,
   "id": "17d23004",
   "metadata": {},
   "outputs": [
    {
     "ename": "KeyboardInterrupt",
     "evalue": "Interrupted by user",
     "output_type": "error",
     "traceback": [
      "\u001b[1;31m---------------------------------------------------------------------------\u001b[0m",
      "\u001b[1;31mKeyboardInterrupt\u001b[0m                         Traceback (most recent call last)",
      "Cell \u001b[1;32mIn[3], line 3\u001b[0m\n\u001b[0;32m      1\u001b[0m \u001b[38;5;66;03m#SENERYO 3 \u001b[39;00m\n\u001b[0;32m      2\u001b[0m \u001b[38;5;28;01mwhile\u001b[39;00m \u001b[38;5;28;01mTrue\u001b[39;00m:\n\u001b[1;32m----> 3\u001b[0m     customer_name1 \u001b[38;5;241m=\u001b[39m \u001b[38;5;28minput\u001b[39m(\u001b[38;5;124m\"\u001b[39m\u001b[38;5;124mEnter a name (Press \u001b[39m\u001b[38;5;124m'\u001b[39m\u001b[38;5;124mq\u001b[39m\u001b[38;5;124m'\u001b[39m\u001b[38;5;124m to exit): \u001b[39m\u001b[38;5;124m\"\u001b[39m,)\n\u001b[0;32m      7\u001b[0m     \u001b[38;5;28;01mif\u001b[39;00m customer_name1\u001b[38;5;241m.\u001b[39mlower() \u001b[38;5;241m==\u001b[39m \u001b[38;5;124m'\u001b[39m\u001b[38;5;124mq\u001b[39m\u001b[38;5;124m'\u001b[39m \u001b[38;5;129;01mor\u001b[39;00m customer_name1\u001b[38;5;241m.\u001b[39mlower() \u001b[38;5;241m==\u001b[39m \u001b[38;5;28mint\u001b[39m :\n\u001b[0;32m      8\u001b[0m         \u001b[38;5;28mprint\u001b[39m(\u001b[38;5;124m\"\u001b[39m\u001b[38;5;124mProgramdan çıkılıyor...\u001b[39m\u001b[38;5;124m\"\u001b[39m)\n",
      "File \u001b[1;32m~\\anaconda3\\Lib\\site-packages\\ipykernel\\kernelbase.py:1202\u001b[0m, in \u001b[0;36mKernel.raw_input\u001b[1;34m(self, prompt)\u001b[0m\n\u001b[0;32m   1200\u001b[0m     msg \u001b[38;5;241m=\u001b[39m \u001b[38;5;124m\"\u001b[39m\u001b[38;5;124mraw_input was called, but this frontend does not support input requests.\u001b[39m\u001b[38;5;124m\"\u001b[39m\n\u001b[0;32m   1201\u001b[0m     \u001b[38;5;28;01mraise\u001b[39;00m StdinNotImplementedError(msg)\n\u001b[1;32m-> 1202\u001b[0m \u001b[38;5;28;01mreturn\u001b[39;00m \u001b[38;5;28mself\u001b[39m\u001b[38;5;241m.\u001b[39m_input_request(\n\u001b[0;32m   1203\u001b[0m     \u001b[38;5;28mstr\u001b[39m(prompt),\n\u001b[0;32m   1204\u001b[0m     \u001b[38;5;28mself\u001b[39m\u001b[38;5;241m.\u001b[39m_parent_ident[\u001b[38;5;124m\"\u001b[39m\u001b[38;5;124mshell\u001b[39m\u001b[38;5;124m\"\u001b[39m],\n\u001b[0;32m   1205\u001b[0m     \u001b[38;5;28mself\u001b[39m\u001b[38;5;241m.\u001b[39mget_parent(\u001b[38;5;124m\"\u001b[39m\u001b[38;5;124mshell\u001b[39m\u001b[38;5;124m\"\u001b[39m),\n\u001b[0;32m   1206\u001b[0m     password\u001b[38;5;241m=\u001b[39m\u001b[38;5;28;01mFalse\u001b[39;00m,\n\u001b[0;32m   1207\u001b[0m )\n",
      "File \u001b[1;32m~\\anaconda3\\Lib\\site-packages\\ipykernel\\kernelbase.py:1245\u001b[0m, in \u001b[0;36mKernel._input_request\u001b[1;34m(self, prompt, ident, parent, password)\u001b[0m\n\u001b[0;32m   1242\u001b[0m \u001b[38;5;28;01mexcept\u001b[39;00m \u001b[38;5;167;01mKeyboardInterrupt\u001b[39;00m:\n\u001b[0;32m   1243\u001b[0m     \u001b[38;5;66;03m# re-raise KeyboardInterrupt, to truncate traceback\u001b[39;00m\n\u001b[0;32m   1244\u001b[0m     msg \u001b[38;5;241m=\u001b[39m \u001b[38;5;124m\"\u001b[39m\u001b[38;5;124mInterrupted by user\u001b[39m\u001b[38;5;124m\"\u001b[39m\n\u001b[1;32m-> 1245\u001b[0m     \u001b[38;5;28;01mraise\u001b[39;00m \u001b[38;5;167;01mKeyboardInterrupt\u001b[39;00m(msg) \u001b[38;5;28;01mfrom\u001b[39;00m \u001b[38;5;28;01mNone\u001b[39;00m\n\u001b[0;32m   1246\u001b[0m \u001b[38;5;28;01mexcept\u001b[39;00m \u001b[38;5;167;01mException\u001b[39;00m:\n\u001b[0;32m   1247\u001b[0m     \u001b[38;5;28mself\u001b[39m\u001b[38;5;241m.\u001b[39mlog\u001b[38;5;241m.\u001b[39mwarning(\u001b[38;5;124m\"\u001b[39m\u001b[38;5;124mInvalid Message:\u001b[39m\u001b[38;5;124m\"\u001b[39m, exc_info\u001b[38;5;241m=\u001b[39m\u001b[38;5;28;01mTrue\u001b[39;00m)\n",
      "\u001b[1;31mKeyboardInterrupt\u001b[0m: Interrupted by user"
     ]
    }
   ],
   "source": [
    "#SENERYO 3 \n",
    "while True:\n",
    "    customer_name1 = input(\"Enter a name (Press 'q' to exit): \",)\n",
    "    \n",
    "    \n",
    "    \n",
    "    if customer_name1.lower() == 'q' or customer_name1.lower() == int :\n",
    "        print(\"Programdan çıkılıyor...\")\n",
    "        break\n",
    "    \n",
    "    else:\n",
    "        spending=int(input(\"Enter spending: \",))\n",
    "        if spending>=1000:\n",
    "            print(f\"{customer_name1.upper()} WİN a raffle prize\")\n",
    "            print(\"___________________________________________________\")\n",
    "        else:\n",
    "            print(f\"{customer_name1} is no win\")\n",
    "            print(\"___________________________________________________\")"
   ]
  },
  {
   "cell_type": "markdown",
   "id": "eb4d4e27",
   "metadata": {},
   "source": [
    "# FOR DÖNGÜSÜ "
   ]
  },
  {
   "cell_type": "code",
   "execution_count": 11,
   "id": "37fbd534",
   "metadata": {},
   "outputs": [
    {
     "name": "stdout",
     "output_type": "stream",
     "text": [
      "Excahnge\n",
      "Collect\n",
      "Chin\n",
      "Bite\n",
      "Wage\n",
      "Each_Other\n"
     ]
    }
   ],
   "source": [
    "\n",
    "list1= [\"excahnge\",\"collect\",\"chin\",\"bite\",\"wage\",\"Each_other\"]\n",
    "for i in list1:\n",
    "    print(i.title())"
   ]
  },
  {
   "cell_type": "code",
   "execution_count": 41,
   "id": "6feb7d7e",
   "metadata": {
    "scrolled": true
   },
   "outputs": [
    {
     "name": "stdout",
     "output_type": "stream",
     "text": [
      "enter salary (Press '0' to complete enter salary ) :8000\n",
      "Salaries:[8000]\n",
      "____________________________________\n",
      "INCREASED SALARY [8800.0]\n",
      "enter salary (Press '0' to complete enter salary ) :7000\n",
      "Salaries:[8000, 7000]\n",
      "____________________________________\n",
      "INCREASED SALARY [8800.0, 7700.0]\n",
      "enter salary (Press '0' to complete enter salary ) :9999\n",
      "Salaries:[8000, 7000, 9999]\n",
      "____________________________________\n",
      "INCREASED SALARY [8800.0, 7700.0, 10998.9]\n",
      "enter salary (Press '0' to complete enter salary ) :77005\n",
      "Salaries:[8000, 7000, 9999, 77005]\n",
      "____________________________________\n",
      "INCREASED SALARY [8800.0, 7700.0, 10998.9, 84705.5]\n",
      "enter salary (Press '0' to complete enter salary ) :656546\n",
      "Salaries:[8000, 7000, 9999, 77005, 656546]\n",
      "____________________________________\n",
      "INCREASED SALARY [8800.0, 7700.0, 10998.9, 84705.5, 722200.6]\n",
      "enter salary (Press '0' to complete enter salary ) :0\n",
      "salary complete\n"
     ]
    }
   ],
   "source": [
    "#SENARYO 4 işveren maaşlarını girdiği listeyi maaş zamlı olarak gösteriyor. Fakan önce liste değil eklemeli liste mantığı var.\n",
    "employees=[]\n",
    "\n",
    "while True:\n",
    "    try:\n",
    "        append1=int(input(\"enter salary (Press '0' to complete enter salary ) :\",))\n",
    "        if append1 == 0:\n",
    "            print(\"salary complete\")\n",
    "            break\n",
    "        else:\n",
    "            employees.append(append1)\n",
    "            print(f\"Salaries:{employees}\")\n",
    "            print(\"____________________________________\")\n",
    "        employees2=[]\n",
    "        for i in employees:\n",
    "            calculate=(i+(i*10)/100)\n",
    "            employees2.append(calculate)\n",
    "        print(\"INCREASED SALARY\",employees2)\n",
    "    except ValueError:        \n",
    "        print(\"Please enter a valid number.\")\n",
    "    "
   ]
  },
  {
   "cell_type": "code",
   "execution_count": 34,
   "id": "4a8561e1",
   "metadata": {},
   "outputs": [
    {
     "data": {
      "text/plain": [
       "[7700.0]"
      ]
     },
     "execution_count": 34,
     "metadata": {},
     "output_type": "execute_result"
    }
   ],
   "source": [
    "employees2"
   ]
  },
  {
   "cell_type": "code",
   "execution_count": 59,
   "id": "9455114c",
   "metadata": {},
   "outputs": [
    {
     "name": "stdout",
     "output_type": "stream",
     "text": [
      "Employes count20\n",
      "1.Salaries:6333\n",
      "2.Salaries:255\n",
      "3.Salaries:2222\n",
      "4.Salaries:252\n",
      "5.Salaries:26252\n",
      "6.Salaries:1\n",
      "7.Salaries:1\n",
      "8.Salaries:59595\n",
      "9.Salaries:5959\n",
      "10.Salaries:2525\n",
      "11.Salaries:25852919\n",
      "12.Salaries:25285,\n"
     ]
    },
    {
     "ename": "ValueError",
     "evalue": "invalid literal for int() with base 10: '25285,'",
     "output_type": "error",
     "traceback": [
      "\u001b[1;31m---------------------------------------------------------------------------\u001b[0m",
      "\u001b[1;31mValueError\u001b[0m                                Traceback (most recent call last)",
      "Cell \u001b[1;32mIn[59], line 7\u001b[0m\n\u001b[0;32m      5\u001b[0m \u001b[38;5;28;01mfor\u001b[39;00m i \u001b[38;5;129;01min\u001b[39;00m \u001b[38;5;28mrange\u001b[39m(employees_count):\n\u001b[0;32m      6\u001b[0m     i\u001b[38;5;241m+\u001b[39m\u001b[38;5;241m=\u001b[39m\u001b[38;5;241m1\u001b[39m\n\u001b[1;32m----> 7\u001b[0m     all_salaries\u001b[38;5;241m.\u001b[39mappend(\u001b[38;5;28mint\u001b[39m(\u001b[38;5;28minput\u001b[39m(\u001b[38;5;124mf\u001b[39m\u001b[38;5;124m\"\u001b[39m\u001b[38;5;132;01m{\u001b[39;00mi\u001b[38;5;132;01m}\u001b[39;00m\u001b[38;5;124m.Salaries:\u001b[39m\u001b[38;5;124m\"\u001b[39m,)))\n\u001b[0;32m      8\u001b[0m \u001b[38;5;28;01mfor\u001b[39;00m x \u001b[38;5;129;01min\u001b[39;00m all_salaries:\n\u001b[0;32m      9\u001b[0m     \u001b[38;5;28;01mif\u001b[39;00m x\u001b[38;5;241m==\u001b[39m\u001b[38;5;241m5000\u001b[39m:\n",
      "\u001b[1;31mValueError\u001b[0m: invalid literal for int() with base 10: '25285,'"
     ]
    }
   ],
   "source": [
    "#SENARYO 5 #continue komutu\n",
    "all_salaries=[]\n",
    "all_salaries2=[]\n",
    "employees_count=int(input(\"Employes count\",))\n",
    "for i in range(employees_count):\n",
    "    i+=1\n",
    "    all_salaries.append(int(input(f\"{i}.Salaries:\",)))\n",
    "for x in all_salaries:\n",
    "    if x==5000:\n",
    "        continue\n",
    "    elif 1000<x<2300:\n",
    "        all_salaries2.append(x+((x*20)/100))\n",
    "    elif 2300<x<2500:\n",
    "        all_salaries2.append(x+((x*15)/100))\n",
    "    elif x<1000:\n",
    "        break\n",
    "    else:\n",
    "        all_salaries2.append(x+((x*10)/100))\n",
    "print(all_salaries2)\n",
    "        \n",
    "    "
   ]
  },
  {
   "cell_type": "markdown",
   "id": "397c6ce6",
   "metadata": {},
   "source": [
    "###  List comprehension"
   ]
  },
  {
   "cell_type": "code",
   "execution_count": 64,
   "id": "589ee72c",
   "metadata": {},
   "outputs": [
    {
     "data": {
      "text/plain": [
       "['EXCAHNGE', 'COLLECT', 'CHIN', 'BITE', 'WAGE', 'EACH_OTHER']"
      ]
     },
     "execution_count": 64,
     "metadata": {},
     "output_type": "execute_result"
    }
   ],
   "source": [
    "list2= [\"excahnge\",\"collect\",\"chin\",\"bite\",\"wage\",\"Each_other\"]\n",
    "[i.upper() for i in list2]"
   ]
  },
  {
   "cell_type": "code",
   "execution_count": 68,
   "id": "0ce07dc2",
   "metadata": {},
   "outputs": [
    {
     "name": "stdout",
     "output_type": "stream",
     "text": [
      "Your Guess: 5\n",
      "Sayıyı bildiniz: 5 Doğru tahmin\n"
     ]
    }
   ],
   "source": [
    "#senaryo 6\n",
    "\n",
    "import random\n",
    "\n",
    "rand_int = random.randint(1, 10)\n",
    "\n",
    "while True:\n",
    "    my_guess = int(input(\"Your Guess: \"))\n",
    "\n",
    "    if my_guess > rand_int:\n",
    "        print(\"Sayıyı küçült\")\n",
    "    elif my_guess < rand_int:\n",
    "        print(\"Sayıyı büyüt\")\n",
    "    elif my_guess == rand_int:\n",
    "        print(f\"Sayıyı bildiniz: {my_guess} Doğru tahmin\")\n",
    "        break  # Doğru tahmin yapıldığında sonsuz döngüden çı"
   ]
  },
  {
   "cell_type": "code",
   "execution_count": null,
   "id": "2487fa39",
   "metadata": {},
   "outputs": [],
   "source": []
  }
 ],
 "metadata": {
  "kernelspec": {
   "display_name": "Python 3 (ipykernel)",
   "language": "python",
   "name": "python3"
  },
  "language_info": {
   "codemirror_mode": {
    "name": "ipython",
    "version": 3
   },
   "file_extension": ".py",
   "mimetype": "text/x-python",
   "name": "python",
   "nbconvert_exporter": "python",
   "pygments_lexer": "ipython3",
   "version": "3.11.5"
  }
 },
 "nbformat": 4,
 "nbformat_minor": 5
}
