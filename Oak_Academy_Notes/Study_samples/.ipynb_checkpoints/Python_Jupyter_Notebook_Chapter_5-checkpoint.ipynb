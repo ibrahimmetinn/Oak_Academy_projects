{
 "cells": [
  {
   "cell_type": "markdown",
   "id": "b491cb88",
   "metadata": {},
   "source": [
    "# Function (Fonksiyonlar 19. bölüm)"
   ]
  },
  {
   "cell_type": "code",
   "execution_count": 1,
   "id": "739da3d6",
   "metadata": {},
   "outputs": [],
   "source": [
    "def veritabani_olustur():\n",
    "    try:\n",
    "        # Metin dosyasını aç\n",
    "        with open(\"veritabani.txt\", \"w\") as dosya:\n",
    "            dosya.write(\"ID,Ad,Soyad,Email\\n\")  # Başlık satırı\n",
    "\n",
    "        print(\"Veritabanı başarıyla oluşturuldu: veritabani.txt\")\n",
    "\n",
    "    except Exception as hata:\n",
    "        print(\"Veritabanı oluşturma hatası:\", hata)\n"
   ]
  },
  {
   "cell_type": "code",
   "execution_count": 6,
   "id": "0e8e279d",
   "metadata": {},
   "outputs": [
    {
     "name": "stdout",
     "output_type": "stream",
     "text": [
      "5954\n",
      "211069990664\n"
     ]
    }
   ],
   "source": [
    "# first function\n",
    "def chance(b):\n",
    "    a=b**3\n",
    "    return a\n",
    "\n",
    "print(chance(int(input())))"
   ]
  },
  {
   "cell_type": "code",
   "execution_count": 23,
   "id": "28e64291",
   "metadata": {},
   "outputs": [
    {
     "name": "stdout",
     "output_type": "stream",
     "text": [
      "first edge:5\n",
      "second edge:12\n",
      "hypotenuse: 13.0\n"
     ]
    }
   ],
   "source": [
    "#Hipotenüs işlemi yapan fonksiyon\n",
    "\n",
    "def hypo(a,b):\n",
    "    return (a**2+b**2)**0.5\n",
    "a=int(input(\"first edge:\",))\n",
    "b=int(input(\"second edge:\",))\n",
    "\n",
    "print(\"hypotenuse:\",hypo(a,b))"
   ]
  },
  {
   "cell_type": "code",
   "execution_count": 2,
   "id": "7b8df7b2",
   "metadata": {},
   "outputs": [
    {
     "name": "stdout",
     "output_type": "stream",
     "text": [
      "my name is  maria\n",
      "my surname is  peder\n",
      "my age is  25\n"
     ]
    }
   ],
   "source": [
    "def argument(ad,soyad,age):\n",
    "    print(\"my name is \",ad)\n",
    "    print(\"my surname is \",soyad),\n",
    "    print(\"my age is \",age)\n",
    "argument(\"maria\",\"peder\",25)"
   ]
  },
  {
   "cell_type": "markdown",
   "id": "77d6f195",
   "metadata": {},
   "source": [
    "# Possionional Arguments (*args kullanımı)\n"
   ]
  },
  {
   "cell_type": "code",
   "execution_count": 29,
   "id": "1157ac71",
   "metadata": {},
   "outputs": [
    {
     "name": "stdout",
     "output_type": "stream",
     "text": [
      "[1, 3, 5, 7, 9]\n",
      "[2, 4, 6, 8]\n"
     ]
    }
   ],
   "source": [
    "def exchance(*deger):\n",
    "    cift=[]\n",
    "    tek=[]\n",
    "    for i in deger:\n",
    "        if i % 2 ==0:\n",
    "            cift.append(i)\n",
    "        elif i % 2 ==1:\n",
    "            tek.append(i)\n",
    "    print(tek,cift, sep=\"\\n\")\n",
    "\n",
    "deger = tuple(range(1, 10))\n",
    "exchance(*deger)"
   ]
  },
  {
   "cell_type": "markdown",
   "id": "8e9a96bd",
   "metadata": {},
   "source": [
    "# Keyword Arguments (**kwargs kullanımı)\n"
   ]
  },
  {
   "cell_type": "code",
   "execution_count": 26,
   "id": "43d8e448",
   "metadata": {},
   "outputs": [
    {
     "name": "stdout",
     "output_type": "stream",
     "text": [
      "Reason kelimesinin anlamı Sebep dir.\n",
      "Unique kelimesinin anlamı Benzersiz dir.\n",
      "Backgamon kelimesinin anlamı Tavla dir.\n",
      "Avaliable kelimesinin anlamı Uygun dir.\n"
     ]
    }
   ],
   "source": [
    "def eng_tur(**word):\n",
    "    for key,value in word.items():\n",
    "        print(f\"{key} kelimesinin anlamı {value} dir.\")\n",
    "eng_word={\"Reason\":\"Sebep\",\n",
    "         \"Unique\":\"Benzersiz\",\n",
    "         \"Backgamon\":\"Tavla\",\n",
    "         \"Avaliable\":\"Uygun\"}\n",
    "eng_tur(**eng_word)"
   ]
  },
  {
   "cell_type": "code",
   "execution_count": 33,
   "id": "53c2e221",
   "metadata": {},
   "outputs": [
    {
     "name": "stdout",
     "output_type": "stream",
     "text": [
      "False\n"
     ]
    }
   ],
   "source": [
    "#all function\n",
    "list1=[]\n",
    "for i in range(0,10):\n",
    "    list1.append(i)\n",
    "\n",
    "def control(*thedor):\n",
    "    print(all(list1))\n",
    "control(list1)\n",
    "    "
   ]
  },
  {
   "cell_type": "code",
   "execution_count": 34,
   "id": "8acccff2",
   "metadata": {},
   "outputs": [
    {
     "name": "stdout",
     "output_type": "stream",
     "text": [
      "True\n"
     ]
    }
   ],
   "source": [
    "#any\n",
    "list1=[]\n",
    "for i in range(0,10):\n",
    "    list1.append(i)\n",
    "\n",
    "def control(*thedor):\n",
    "    print(any(list1))\n",
    "control(list1)"
   ]
  },
  {
   "cell_type": "code",
   "execution_count": 44,
   "id": "df506233",
   "metadata": {
    "scrolled": true
   },
   "outputs": [
    {
     "name": "stdout",
     "output_type": "stream",
     "text": [
      "5\n",
      "halis, 50 60 70\n",
      "[50.0, 60.0, 70.0]\n",
      "melih, 80 90 100\n",
      "[80.0, 90.0, 100.0]\n",
      "galip 50 50 50 \n",
      "[50.0, 50.0, 50.0]\n",
      "mevlüt 70 80 90\n",
      "[70.0, 80.0, 90.0]\n",
      "dogan 63 58 96\n",
      "[63.0, 58.0, 96.0]\n",
      "dogan\n"
     ]
    }
   ],
   "source": [
    "if __name__ == '__main__':\n",
    "    n = int(input())\n",
    "    student_marks = {}\n",
    "    for _ in range(n):\n",
    "        name, *line = input().split()\n",
    "        scores = list(map(float, line))\n",
    "        student_marks[name] = scores\n",
    "    query_name = input()"
   ]
  },
  {
   "cell_type": "code",
   "execution_count": 48,
   "id": "a7fec82e",
   "metadata": {},
   "outputs": [
    {
     "name": "stdout",
     "output_type": "stream",
     "text": [
      "{'halis,': [50.0, 60.0, 70.0], 'melih,': [80.0, 90.0, 100.0], 'galip': [50.0, 50.0, 50.0], 'mevlüt': [70.0, 80.0, 90.0], 'dogan': [63.0, 58.0, 96.0]}\n"
     ]
    }
   ],
   "source": [
    "print(student_marks)"
   ]
  },
  {
   "cell_type": "code",
   "execution_count": 57,
   "id": "2b6a1d13",
   "metadata": {},
   "outputs": [
    {
     "name": "stdout",
     "output_type": "stream",
     "text": [
      "halis,\n",
      "60.00\n"
     ]
    }
   ],
   "source": [
    "query_name = input()\n",
    "student2=sum(student_marks[query_name])\n",
    "result=student2/3\n",
    "formatted_result = \"{:.2f}\".format(result)\n",
    "print(formatted_result)\n"
   ]
  },
  {
   "cell_type": "code",
   "execution_count": 40,
   "id": "1c2a3fa1",
   "metadata": {},
   "outputs": [
    {
     "name": "stdout",
     "output_type": "stream",
     "text": [
      "0 1 8 27 64 125 216 343 512 729\n"
     ]
    }
   ],
   "source": [
    "sayilar=range(10)\n",
    "def kup(sayi):\n",
    "    return sayi**3\n",
    "islem=map(kup,sayilar)\n",
    "print(*islem)"
   ]
  },
  {
   "cell_type": "code",
   "execution_count": null,
   "id": "66f7c054",
   "metadata": {},
   "outputs": [],
   "source": []
  }
 ],
 "metadata": {
  "kernelspec": {
   "display_name": "Python 3 (ipykernel)",
   "language": "python",
   "name": "python3"
  },
  "language_info": {
   "codemirror_mode": {
    "name": "ipython",
    "version": 3
   },
   "file_extension": ".py",
   "mimetype": "text/x-python",
   "name": "python",
   "nbconvert_exporter": "python",
   "pygments_lexer": "ipython3",
   "version": "3.11.5"
  }
 },
 "nbformat": 4,
 "nbformat_minor": 5
}
