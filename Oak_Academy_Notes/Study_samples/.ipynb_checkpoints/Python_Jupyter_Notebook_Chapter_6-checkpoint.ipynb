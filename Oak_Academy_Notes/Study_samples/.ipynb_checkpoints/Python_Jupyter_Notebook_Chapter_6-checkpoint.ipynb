{
 "cells": [
  {
   "cell_type": "markdown",
   "id": "1314e49c",
   "metadata": {},
   "source": [
    "# Built in fonksiyonları (All built in function)"
   ]
  },
  {
   "cell_type": "code",
   "execution_count": 19,
   "id": "da7095de",
   "metadata": {},
   "outputs": [],
   "source": [
    "\n",
    "list1=[(\"accept\",\"kabul_etmek\"),(\"decoding\",\"kod_cozme\"),(\"make_sure\",\"emin_olmak\")]\n",
    "list2=[1,2,3,4,5,-20]\n",
    "list3=[]\n",
    "dict1={\"ders\":{\"Instruction\":\"Talimatlar\",\n",
    "             \"AI\":\"Artifical_intelllenge\"},\n",
    "      \"custom\":[1,2,3,5]}"
   ]
  },
  {
   "cell_type": "code",
   "execution_count": 20,
   "id": "aa0e533a",
   "metadata": {},
   "outputs": [
    {
     "name": "stdout",
     "output_type": "stream",
     "text": [
      "[1, 2, 3, 4, 5, 20]\n"
     ]
    }
   ],
   "source": [
    "#abs() mutlak değer aldık\n",
    "absolute_value=[abs(x) for x in list2]\n",
    "print(absolute_value)"
   ]
  },
  {
   "cell_type": "code",
   "execution_count": 24,
   "id": "73392e19",
   "metadata": {},
   "outputs": [
    {
     "name": "stdout",
     "output_type": "stream",
     "text": [
      "True\n",
      "True\n",
      "True\n",
      "--------------\n",
      "False\n"
     ]
    }
   ],
   "source": [
    "#all any\n",
    "all_func=(all(list2))\n",
    "print(all_func)\n",
    "all_func1=(all(dict1))\n",
    "print(all_func1)\n",
    "print(all(list3))\n",
    "print(\"--------------\")\n",
    "print(any(list3))"
   ]
  },
  {
   "cell_type": "code",
   "execution_count": 1,
   "id": "28af8528",
   "metadata": {},
   "outputs": [
    {
     "data": {
      "text/plain": [
       "'0b100110110110000'"
      ]
     },
     "execution_count": 1,
     "metadata": {},
     "output_type": "execute_result"
    }
   ],
   "source": [
    "#bin()---binary sayıya dönüştürür\n",
    "bin(54)\n",
    "bin(19888)\n"
   ]
  },
  {
   "cell_type": "markdown",
   "id": "1916ca44",
   "metadata": {},
   "source": [
    "## LAMBDA FONKSİYONU\n",
    "\n",
    "\n",
    "\n"
   ]
  },
  {
   "cell_type": "code",
   "execution_count": 2,
   "id": "3ed330f6",
   "metadata": {},
   "outputs": [
    {
     "data": {
      "text/plain": [
       "27"
      ]
     },
     "execution_count": 2,
     "metadata": {},
     "output_type": "execute_result"
    }
   ],
   "source": [
    "example=(lambda x:x**3 )\n",
    "example(3)"
   ]
  },
  {
   "cell_type": "code",
   "execution_count": 3,
   "id": "f93f6b2b",
   "metadata": {},
   "outputs": [
    {
     "data": {
      "text/plain": [
       "6"
      ]
     },
     "execution_count": 3,
     "metadata": {},
     "output_type": "execute_result"
    }
   ],
   "source": [
    "example=(lambda x,y:x*y)\n",
    "example(3,2)"
   ]
  },
  {
   "cell_type": "markdown",
   "id": "f8ee15cd",
   "metadata": {},
   "source": [
    "## Ternary Condition ile kullanım\n"
   ]
  },
  {
   "cell_type": "code",
   "execution_count": 8,
   "id": "4ada8dce",
   "metadata": {},
   "outputs": [],
   "source": [
    "odd_number=lambda x:\"your number is odd \" if x %2 ==1 else \"Your number is even \""
   ]
  },
  {
   "cell_type": "code",
   "execution_count": 10,
   "id": "da891efa",
   "metadata": {},
   "outputs": [
    {
     "data": {
      "text/plain": [
       "'your number is odd '"
      ]
     },
     "execution_count": 10,
     "metadata": {},
     "output_type": "execute_result"
    }
   ],
   "source": [
    "odd_number(2)\n",
    "odd_number(15)"
   ]
  },
  {
   "cell_type": "code",
   "execution_count": 11,
   "id": "5888b467",
   "metadata": {},
   "outputs": [
    {
     "name": "stdout",
     "output_type": "stream",
     "text": [
      "your number is odd \n"
     ]
    }
   ],
   "source": [
    "print(odd_number(1555))"
   ]
  },
  {
   "cell_type": "code",
   "execution_count": 12,
   "id": "ebfe97d2",
   "metadata": {},
   "outputs": [
    {
     "name": "stdout",
     "output_type": "stream",
     "text": [
      "Your number is even \n"
     ]
    }
   ],
   "source": [
    "print(odd_number(1558))"
   ]
  },
  {
   "cell_type": "code",
   "execution_count": 13,
   "id": "5c5dc165",
   "metadata": {},
   "outputs": [],
   "source": [
    "list10=[15,25,35,65,78,49,15,444,777,54855]\n"
   ]
  },
  {
   "cell_type": "code",
   "execution_count": 14,
   "id": "0d3df12e",
   "metadata": {},
   "outputs": [
    {
     "name": "stdout",
     "output_type": "stream",
     "text": [
      "15 : your number is odd \n",
      "25 : your number is odd \n",
      "35 : your number is odd \n",
      "65 : your number is odd \n",
      "78 : Your number is even \n",
      "49 : your number is odd \n",
      "15 : your number is odd \n",
      "444 : Your number is even \n",
      "777 : your number is odd \n",
      "54855 : your number is odd \n"
     ]
    }
   ],
   "source": [
    "for i in list10:\n",
    "    print(i,\":\",(lambda x:\"your number is odd \" if x %2 ==1 else \"Your number is even \")(i))"
   ]
  },
  {
   "cell_type": "code",
   "execution_count": 15,
   "id": "f6fa1614",
   "metadata": {},
   "outputs": [
    {
     "name": "stdout",
     "output_type": "stream",
     "text": [
      "(8, 2)\n"
     ]
    }
   ],
   "source": [
    "add_and_subtract = lambda x, y: (x + y, x - y)\n",
    "result = add_and_subtract(5, 3)\n",
    "print(result) "
   ]
  },
  {
   "cell_type": "code",
   "execution_count": null,
   "id": "23fd47f2",
   "metadata": {},
   "outputs": [],
   "source": []
  }
 ],
 "metadata": {
  "kernelspec": {
   "display_name": "Python 3 (ipykernel)",
   "language": "python",
   "name": "python3"
  },
  "language_info": {
   "codemirror_mode": {
    "name": "ipython",
    "version": 3
   },
   "file_extension": ".py",
   "mimetype": "text/x-python",
   "name": "python",
   "nbconvert_exporter": "python",
   "pygments_lexer": "ipython3",
   "version": "3.11.5"
  }
 },
 "nbformat": 4,
 "nbformat_minor": 5
}
