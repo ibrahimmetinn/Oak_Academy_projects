{
 "cells": [
  {
   "cell_type": "markdown",
   "id": "d4215fe1",
   "metadata": {},
   "source": [
    "# NUMPY KUTUPHANESI"
   ]
  },
  {
   "cell_type": "code",
   "execution_count": 1,
   "id": "c8ab879f",
   "metadata": {},
   "outputs": [],
   "source": [
    "import numpy as np\n"
   ]
  },
  {
   "cell_type": "code",
   "execution_count": 13,
   "id": "d9cd3253",
   "metadata": {},
   "outputs": [],
   "source": [
    "list1=np.array([2,6,500,0])\n",
    "list2=np.array([9,5,6,555])"
   ]
  },
  {
   "cell_type": "code",
   "execution_count": 7,
   "id": "35f196d9",
   "metadata": {},
   "outputs": [
    {
     "data": {
      "text/plain": [
       "array([  18,   30, 3000,    0])"
      ]
     },
     "execution_count": 7,
     "metadata": {},
     "output_type": "execute_result"
    }
   ],
   "source": [
    "list1*list2"
   ]
  },
  {
   "cell_type": "code",
   "execution_count": 8,
   "id": "f8a53f40",
   "metadata": {},
   "outputs": [
    {
     "name": "stdout",
     "output_type": "stream",
     "text": [
      "[2.  3.5 6. ]\n"
     ]
    }
   ],
   "source": [
    "new_array=np.array([2,3.5,6])\n",
    "print(new_array)\n",
    "#hepsini float veri tipine dönüştürdü\n"
   ]
  },
  {
   "cell_type": "code",
   "execution_count": 11,
   "id": "06a18d0c",
   "metadata": {},
   "outputs": [
    {
     "name": "stdout",
     "output_type": "stream",
     "text": [
      "[2 3 6]\n"
     ]
    }
   ],
   "source": [
    "new_array1=np.array([2,3.5,6],dtype=\"int\")\n",
    "print(new_array1)\n",
    "#hepsini int değere  dönüştürdü"
   ]
  },
  {
   "cell_type": "code",
   "execution_count": 8,
   "id": "a8580e55",
   "metadata": {},
   "outputs": [
    {
     "data": {
      "text/plain": [
       "array([[8, 9, 9, 1, 5],\n",
       "       [0, 3, 1, 0, 3],\n",
       "       [6, 5, 9, 5, 0],\n",
       "       [7, 2, 4, 9, 5],\n",
       "       [5, 3, 0, 5, 3]])"
      ]
     },
     "execution_count": 8,
     "metadata": {},
     "output_type": "execute_result"
    }
   ],
   "source": [
    "matrix=np.random.randint(0,10,(5,5))\n",
    "matrix"
   ]
  },
  {
   "cell_type": "code",
   "execution_count": 9,
   "id": "6d732557",
   "metadata": {},
   "outputs": [
    {
     "data": {
      "text/plain": [
       "107"
      ]
     },
     "execution_count": 9,
     "metadata": {},
     "output_type": "execute_result"
    }
   ],
   "source": [
    "# sum\n",
    "np.sum(matrix)"
   ]
  },
  {
   "cell_type": "code",
   "execution_count": 14,
   "id": "cc1f2ae5",
   "metadata": {},
   "outputs": [
    {
     "data": {
      "text/plain": [
       "dtype('int32')"
      ]
     },
     "execution_count": 14,
     "metadata": {},
     "output_type": "execute_result"
    }
   ],
   "source": [
    "matrix.dtype"
   ]
  },
  {
   "cell_type": "code",
   "execution_count": 16,
   "id": "23c82461",
   "metadata": {},
   "outputs": [
    {
     "data": {
      "text/plain": [
       "array([[1., 1., 1., 1.]])"
      ]
     },
     "execution_count": 16,
     "metadata": {},
     "output_type": "execute_result"
    }
   ],
   "source": [
    "np.ones((1,4))"
   ]
  },
  {
   "cell_type": "code",
   "execution_count": 21,
   "id": "2e121703",
   "metadata": {},
   "outputs": [
    {
     "data": {
      "text/plain": [
       "array([[6, 6, 6, 6],\n",
       "       [6, 6, 6, 6],\n",
       "       [6, 6, 6, 6]])"
      ]
     },
     "execution_count": 21,
     "metadata": {},
     "output_type": "execute_result"
    }
   ],
   "source": [
    "np.full((3,4),6)"
   ]
  },
  {
   "cell_type": "code",
   "execution_count": 26,
   "id": "776bd6c0",
   "metadata": {},
   "outputs": [
    {
     "data": {
      "text/plain": [
       "array([4, 5, 6, 7, 8])"
      ]
     },
     "execution_count": 26,
     "metadata": {},
     "output_type": "execute_result"
    }
   ],
   "source": [
    "np.arange(4,9)"
   ]
  },
  {
   "cell_type": "code",
   "execution_count": 27,
   "id": "9f70fecc",
   "metadata": {},
   "outputs": [
    {
     "data": {
      "text/plain": [
       "array([[0.41002406, 0.4107356 , 0.18420452, 0.7278857 ],\n",
       "       [0.26415187, 0.68431055, 0.46567476, 0.01118659],\n",
       "       [0.05480105, 0.66548482, 0.22645939, 0.23153399]])"
      ]
     },
     "execution_count": 27,
     "metadata": {},
     "output_type": "execute_result"
    }
   ],
   "source": [
    "np.random.rand(3,4)"
   ]
  },
  {
   "cell_type": "code",
   "execution_count": 29,
   "id": "791544ad",
   "metadata": {},
   "outputs": [
    {
     "data": {
      "text/plain": [
       "array([[ 1.52129783, -0.77446541,  1.58610493],\n",
       "       [-0.63590709,  0.47740095, -0.43752353],\n",
       "       [-0.59418819,  1.04682876,  2.3902323 ]])"
      ]
     },
     "execution_count": 29,
     "metadata": {},
     "output_type": "execute_result"
    }
   ],
   "source": [
    "np.random.randn(3,3)"
   ]
  },
  {
   "cell_type": "code",
   "execution_count": 7,
   "id": "d395699e",
   "metadata": {},
   "outputs": [
    {
     "data": {
      "text/plain": [
       "array([ 1,  2,  3,  4,  5,  6,  7,  8,  9, 10, 11, 12, 13, 14, 15, 16, 17,\n",
       "       18, 19, 20])"
      ]
     },
     "execution_count": 7,
     "metadata": {},
     "output_type": "execute_result"
    }
   ],
   "source": [
    "difference=np.arange(1,21)\n",
    "difference"
   ]
  },
  {
   "cell_type": "code",
   "execution_count": 9,
   "id": "10cb113e",
   "metadata": {},
   "outputs": [
    {
     "data": {
      "text/plain": [
       "array([[ 1,  2,  3,  4,  5],\n",
       "       [ 6,  7,  8,  9, 10],\n",
       "       [11, 12, 13, 14, 15],\n",
       "       [16, 17, 18, 19, 20]])"
      ]
     },
     "execution_count": 9,
     "metadata": {},
     "output_type": "execute_result"
    }
   ],
   "source": [
    "#reshape komutu\n",
    "difference.reshape(4,5)"
   ]
  },
  {
   "cell_type": "code",
   "execution_count": 10,
   "id": "e51c5996",
   "metadata": {},
   "outputs": [
    {
     "data": {
      "text/plain": [
       "19"
      ]
     },
     "execution_count": 10,
     "metadata": {},
     "output_type": "execute_result"
    }
   ],
   "source": [
    "# max() ve argmax()\n",
    "#max değerin indexini verir\n",
    "difference.argmax()"
   ]
  },
  {
   "cell_type": "code",
   "execution_count": 11,
   "id": "d5dba83c",
   "metadata": {},
   "outputs": [
    {
     "data": {
      "text/plain": [
       "20"
      ]
     },
     "execution_count": 11,
     "metadata": {},
     "output_type": "execute_result"
    }
   ],
   "source": [
    "#maximum değereri verir\n",
    "difference.max()"
   ]
  },
  {
   "cell_type": "code",
   "execution_count": 14,
   "id": "d88c6688",
   "metadata": {},
   "outputs": [
    {
     "data": {
      "text/plain": [
       "array([  2,   6, 500,   0,   9,   5,   6, 555])"
      ]
     },
     "execution_count": 14,
     "metadata": {},
     "output_type": "execute_result"
    }
   ],
   "source": [
    "#concatenate\n",
    "np.concatenate([list1,list2])"
   ]
  },
  {
   "cell_type": "code",
   "execution_count": 28,
   "id": "ef5b7e7d",
   "metadata": {},
   "outputs": [
    {
     "data": {
      "text/plain": [
       "array([[1, 2, 3, 2],\n",
       "       [3, 4, 4, 6],\n",
       "       [5, 6, 8, 9]])"
      ]
     },
     "execution_count": 28,
     "metadata": {},
     "output_type": "execute_result"
    }
   ],
   "source": [
    "array=np.arange(1,7).reshape(3,2)\n",
    "array2=np.array([[3,2],\n",
    "                [4,6],\n",
    "                [8,9]])\n",
    "array3=np.concatenate([array,array2],axis=1)\n",
    "#axis 0 satır bazlı axis 1 sütun bazlı birleştirme yapar\n",
    "array3"
   ]
  },
  {
   "cell_type": "code",
   "execution_count": 29,
   "id": "b68dd507",
   "metadata": {},
   "outputs": [
    {
     "data": {
      "text/plain": [
       "array([[1, 2],\n",
       "       [3, 4],\n",
       "       [5, 6],\n",
       "       [3, 2],\n",
       "       [4, 6],\n",
       "       [8, 9]])"
      ]
     },
     "execution_count": 29,
     "metadata": {},
     "output_type": "execute_result"
    }
   ],
   "source": [
    "array4=np.concatenate([array,array2],axis=0)\n",
    "array4"
   ]
  },
  {
   "cell_type": "code",
   "execution_count": 39,
   "id": "b2c84b52",
   "metadata": {},
   "outputs": [
    {
     "name": "stdout",
     "output_type": "stream",
     "text": [
      "x degeri:[  1   2   3   4   5   6   7   8   9  10  11  12  13  14  15  16  17  18\n",
      "  19  20  21  22  23  24  25  26  27  28  29  30  31  32  33  34  35  36\n",
      "  37  38  39  40  41  42  43  44  45  46  47  48  49  50  51  52  53  54\n",
      "  55  56  57  58  59  60  61  62  63  64  65  66  67  68  69  70  71  72\n",
      "  73  74  75  76  77  78  79  80  81  82  83  84  85  86  87  88  89  90\n",
      "  91  92  93  94  95  96  97  98  99 100]\n",
      "y_degeri:[101 102 103 104 105 106 107 108 109 110 111 112 113 114 115 116 117 118\n",
      " 119 120 121 122 123 124 125 126 127 128 129 130 131 132 133 134 135 136\n",
      " 137 138 139 140 141 142 143 144 145 146 147 148 149 150]\n"
     ]
    }
   ],
   "source": [
    "array5=np.arange(1,500)\n",
    "x,y,z,t=np.split(array5,[100,150,300])\n",
    "\n",
    "print(f\"x degeri:{x}\\ny_degeri:{y}\")"
   ]
  },
  {
   "cell_type": "code",
   "execution_count": 43,
   "id": "7f818125",
   "metadata": {},
   "outputs": [
    {
     "data": {
      "text/plain": [
       "array([[ 0,  1,  2,  3],\n",
       "       [ 4,  5,  6,  7],\n",
       "       [ 8,  9, 10, 11],\n",
       "       [12, 13, 14, 15],\n",
       "       [16, 17, 18, 19]])"
      ]
     },
     "execution_count": 43,
     "metadata": {},
     "output_type": "execute_result"
    }
   ],
   "source": [
    "array6=np.arange(0,20).reshape(5,4)\n",
    "array6"
   ]
  },
  {
   "cell_type": "code",
   "execution_count": 47,
   "id": "3b967ba4",
   "metadata": {},
   "outputs": [
    {
     "data": {
      "text/plain": [
       "[array([[0, 1, 2, 3],\n",
       "        [4, 5, 6, 7]]),\n",
       " array([[ 8,  9, 10, 11],\n",
       "        [12, 13, 14, 15]]),\n",
       " array([[16, 17, 18, 19]])]"
      ]
     },
     "execution_count": 47,
     "metadata": {},
     "output_type": "execute_result"
    }
   ],
   "source": [
    "np.split(array6,[2,4])"
   ]
  },
  {
   "cell_type": "code",
   "execution_count": 48,
   "id": "67d4aa9c",
   "metadata": {},
   "outputs": [],
   "source": [
    "#indexleme\n",
    "array8=np.random.randint(0,10,(5,9))"
   ]
  },
  {
   "cell_type": "code",
   "execution_count": 49,
   "id": "37b9547d",
   "metadata": {},
   "outputs": [
    {
     "data": {
      "text/plain": [
       "array([[1, 9, 5, 5, 4, 4, 6, 3, 2],\n",
       "       [8, 5, 1, 7, 1, 1, 4, 2, 3],\n",
       "       [6, 3, 3, 6, 1, 8, 5, 8, 2],\n",
       "       [1, 0, 6, 8, 2, 9, 4, 9, 3],\n",
       "       [1, 7, 4, 7, 8, 9, 4, 8, 7]])"
      ]
     },
     "execution_count": 49,
     "metadata": {},
     "output_type": "execute_result"
    }
   ],
   "source": [
    "array8"
   ]
  },
  {
   "cell_type": "code",
   "execution_count": 59,
   "id": "a1eaae93",
   "metadata": {},
   "outputs": [
    {
     "data": {
      "text/plain": [
       "3"
      ]
     },
     "execution_count": 59,
     "metadata": {},
     "output_type": "execute_result"
    }
   ],
   "source": [
    "array8[2,2]"
   ]
  },
  {
   "cell_type": "code",
   "execution_count": 83,
   "id": "f1392290",
   "metadata": {},
   "outputs": [
    {
     "data": {
      "text/plain": [
       "array([[8, 5, 1, 7, 1],\n",
       "       [6, 3, 3, 6, 1],\n",
       "       [1, 0, 6, 8, 2]])"
      ]
     },
     "execution_count": 83,
     "metadata": {},
     "output_type": "execute_result"
    }
   ],
   "source": [
    "#sutun indexe erişmew\n",
    "array8[1:4,0:5]"
   ]
  },
  {
   "cell_type": "code",
   "execution_count": null,
   "id": "50141d5f",
   "metadata": {},
   "outputs": [],
   "source": [
    "array8[1:4,0:5]"
   ]
  },
  {
   "cell_type": "code",
   "execution_count": 79,
   "id": "f5149224",
   "metadata": {},
   "outputs": [
    {
     "data": {
      "text/plain": [
       "array([  3,  36, 645])"
      ]
     },
     "execution_count": 79,
     "metadata": {},
     "output_type": "execute_result"
    }
   ],
   "source": [
    "array9=np.array([2,3,3,36,645,66,66,85])\n",
    "array9[2:-3]"
   ]
  },
  {
   "cell_type": "code",
   "execution_count": 84,
   "id": "99fecc48",
   "metadata": {},
   "outputs": [],
   "source": [
    "#index değerini değiştirme\n",
    "array9[-1]=20"
   ]
  },
  {
   "cell_type": "code",
   "execution_count": 85,
   "id": "a97368ec",
   "metadata": {},
   "outputs": [
    {
     "data": {
      "text/plain": [
       "array([  2,   3,   3,  36, 645,  66,  66,  20])"
      ]
     },
     "execution_count": 85,
     "metadata": {},
     "output_type": "execute_result"
    }
   ],
   "source": [
    "array9"
   ]
  },
  {
   "cell_type": "code",
   "execution_count": 88,
   "id": "db8f42a7",
   "metadata": {},
   "outputs": [
    {
     "data": {
      "text/plain": [
       "array([[5, 9, 5, 5, 4, 4, 6, 3, 2],\n",
       "       [5, 5, 1, 7, 1, 1, 4, 2, 3],\n",
       "       [5, 3, 3, 6, 1, 8, 5, 8, 2],\n",
       "       [5, 0, 6, 8, 2, 9, 4, 9, 3],\n",
       "       [5, 7, 4, 7, 8, 9, 4, 8, 7]])"
      ]
     },
     "execution_count": 88,
     "metadata": {},
     "output_type": "execute_result"
    }
   ],
   "source": [
    "array8[:,0] =[5,5,5,5,5]\n",
    "array8"
   ]
  },
  {
   "cell_type": "markdown",
   "id": "f79440c1",
   "metadata": {},
   "source": [
    "## Fancy index "
   ]
  },
  {
   "cell_type": "code",
   "execution_count": 95,
   "id": "e9cb728d",
   "metadata": {},
   "outputs": [
    {
     "data": {
      "text/plain": [
       "array([40, 42, 44, 46, 48, 50, 52, 54, 56, 58, 60, 62, 64, 66, 68, 70, 72,\n",
       "       74, 76, 78])"
      ]
     },
     "execution_count": 95,
     "metadata": {},
     "output_type": "execute_result"
    }
   ],
   "source": [
    "list1=np.arange(0,100,2)\n",
    "fancy_index=np.arange(20,40)\n",
    "list1[fancy_index]"
   ]
  },
  {
   "cell_type": "code",
   "execution_count": 1,
   "id": "40b276bb",
   "metadata": {},
   "outputs": [],
   "source": [
    "import numpy as np"
   ]
  },
  {
   "cell_type": "code",
   "execution_count": 2,
   "id": "3c597084",
   "metadata": {},
   "outputs": [],
   "source": [
    "# İstatistiksel fonksiyonlar"
   ]
  },
  {
   "cell_type": "code",
   "execution_count": 19,
   "id": "3d400d07",
   "metadata": {},
   "outputs": [],
   "source": [
    "array20=np.random.randint(1,10,(5,5))\n"
   ]
  },
  {
   "cell_type": "code",
   "execution_count": 20,
   "id": "1aeaf156",
   "metadata": {},
   "outputs": [
    {
     "data": {
      "text/plain": [
       "array([[6, 8, 4, 8, 4],\n",
       "       [5, 8, 6, 2, 3],\n",
       "       [2, 7, 8, 3, 1],\n",
       "       [3, 1, 1, 3, 7],\n",
       "       [6, 6, 4, 1, 8]])"
      ]
     },
     "execution_count": 20,
     "metadata": {},
     "output_type": "execute_result"
    }
   ],
   "source": [
    "array20\n"
   ]
  },
  {
   "cell_type": "code",
   "execution_count": 21,
   "id": "2afed1a3",
   "metadata": {},
   "outputs": [
    {
     "data": {
      "text/plain": [
       "4.6"
      ]
     },
     "execution_count": 21,
     "metadata": {},
     "output_type": "execute_result"
    }
   ],
   "source": [
    "array20.mean()"
   ]
  },
  {
   "cell_type": "code",
   "execution_count": 22,
   "id": "0ae55ccf",
   "metadata": {},
   "outputs": [
    {
     "data": {
      "text/plain": [
       "4.6"
      ]
     },
     "execution_count": 22,
     "metadata": {},
     "output_type": "execute_result"
    }
   ],
   "source": [
    "array20[:,2].mean()"
   ]
  },
  {
   "cell_type": "code",
   "execution_count": 27,
   "id": "ff7e38b4",
   "metadata": {},
   "outputs": [
    {
     "data": {
      "text/plain": [
       "4.0"
      ]
     },
     "execution_count": 27,
     "metadata": {},
     "output_type": "execute_result"
    }
   ],
   "source": [
    "np.median(array20[:,2])\n"
   ]
  },
  {
   "cell_type": "code",
   "execution_count": 28,
   "id": "dab415f1",
   "metadata": {},
   "outputs": [
    {
     "data": {
      "text/plain": [
       "4.6"
      ]
     },
     "execution_count": 28,
     "metadata": {},
     "output_type": "execute_result"
    }
   ],
   "source": [
    "np.mean(array20[:,2])"
   ]
  },
  {
   "cell_type": "code",
   "execution_count": 29,
   "id": "8351f0d2",
   "metadata": {},
   "outputs": [
    {
     "data": {
      "text/plain": [
       "8"
      ]
     },
     "execution_count": 29,
     "metadata": {},
     "output_type": "execute_result"
    }
   ],
   "source": [
    "np.amax(array20[:,2])"
   ]
  },
  {
   "cell_type": "code",
   "execution_count": 30,
   "id": "e5fe2f4b",
   "metadata": {},
   "outputs": [
    {
     "data": {
      "text/plain": [
       "2.33238075793812"
      ]
     },
     "execution_count": 30,
     "metadata": {},
     "output_type": "execute_result"
    }
   ],
   "source": [
    "np.std(array20[:,2])"
   ]
  },
  {
   "cell_type": "code",
   "execution_count": 31,
   "id": "e6229e9b",
   "metadata": {},
   "outputs": [
    {
     "data": {
      "text/plain": [
       "5.4399999999999995"
      ]
     },
     "execution_count": 31,
     "metadata": {},
     "output_type": "execute_result"
    }
   ],
   "source": [
    "np.var(array20[:,2])"
   ]
  },
  {
   "cell_type": "code",
   "execution_count": 32,
   "id": "d1ec1a22",
   "metadata": {},
   "outputs": [
    {
     "data": {
      "text/plain": [
       "array([1, 4, 4, 6, 8])"
      ]
     },
     "execution_count": 32,
     "metadata": {},
     "output_type": "execute_result"
    }
   ],
   "source": [
    "np.sort(array20[:,2])"
   ]
  },
  {
   "cell_type": "code",
   "execution_count": 33,
   "id": "cfc0d03b",
   "metadata": {},
   "outputs": [
    {
     "data": {
      "text/plain": [
       "array([[6, 8, 4, 8, 4],\n",
       "       [5, 8, 6, 2, 3],\n",
       "       [2, 7, 8, 3, 1],\n",
       "       [3, 1, 1, 3, 7],\n",
       "       [6, 6, 4, 1, 8]])"
      ]
     },
     "execution_count": 33,
     "metadata": {},
     "output_type": "execute_result"
    }
   ],
   "source": [
    "array20"
   ]
  },
  {
   "cell_type": "code",
   "execution_count": 34,
   "id": "e7b194fd",
   "metadata": {},
   "outputs": [
    {
     "data": {
      "text/plain": [
       "(array([1, 2], dtype=int64),)"
      ]
     },
     "execution_count": 34,
     "metadata": {},
     "output_type": "execute_result"
    }
   ],
   "source": [
    "np.where(array20[:,2]>5)"
   ]
  },
  {
   "cell_type": "markdown",
   "id": "31def311",
   "metadata": {},
   "source": [
    "## PANDAS KÜTÜPHANESİ\n"
   ]
  },
  {
   "cell_type": "code",
   "execution_count": 38,
   "id": "e4c40372",
   "metadata": {},
   "outputs": [],
   "source": [
    "import pandas as pd\n",
    "import numpy as np"
   ]
  },
  {
   "cell_type": "markdown",
   "id": "5533ae34",
   "metadata": {},
   "source": [
    "#### Pandas serileri index numaraları ile beraber tutulur. Özellikle Pandas kütüphaneleri kullanım noktasında çok büyük avantajlar sağlamakatadır özellikle veri analizi ve veri biliminin olmassa olmazıdır diyebiliriz. "
   ]
  },
  {
   "cell_type": "code",
   "execution_count": 45,
   "id": "41c2c403",
   "metadata": {},
   "outputs": [
    {
     "data": {
      "text/plain": [
       "0    10.0\n",
       "1    20.0\n",
       "2    30.0\n",
       "3    40.0\n",
       "dtype: float64"
      ]
     },
     "execution_count": 45,
     "metadata": {},
     "output_type": "execute_result"
    }
   ],
   "source": [
    "series1=pd.Series([10,20,30,40],dtype=float)\n",
    "series1"
   ]
  },
  {
   "cell_type": "code",
   "execution_count": 46,
   "id": "e1c65984",
   "metadata": {},
   "outputs": [],
   "source": [
    "# index degerlerini istedigimiz sekilde kendimiz isimlendirebilmekteyiz"
   ]
  },
  {
   "cell_type": "code",
   "execution_count": 53,
   "id": "7eee30d6",
   "metadata": {},
   "outputs": [],
   "source": [
    "#Deger sayıları esit olmalıdır.\n",
    "Notes=[65,23,85,52,66,88]\n",
    "Students=[\"Ahmet\",\"Mehmet\",\"Sahibe\",\"Saniye\",\"Sukru\",\"Halit\"]"
   ]
  },
  {
   "cell_type": "code",
   "execution_count": 54,
   "id": "5d63de3e",
   "metadata": {},
   "outputs": [],
   "source": [
    "list_notes=pd.Series(data=Notes,index=Students,dtype=float)"
   ]
  },
  {
   "cell_type": "code",
   "execution_count": 55,
   "id": "0b1b3b27",
   "metadata": {},
   "outputs": [
    {
     "data": {
      "text/plain": [
       "Ahmet     65.0\n",
       "Mehmet    23.0\n",
       "Sahibe    85.0\n",
       "Saniye    52.0\n",
       "Sukru     66.0\n",
       "Halit     88.0\n",
       "dtype: float64"
      ]
     },
     "execution_count": 55,
     "metadata": {},
     "output_type": "execute_result"
    }
   ],
   "source": [
    "list_notes"
   ]
  },
  {
   "cell_type": "code",
   "execution_count": 52,
   "id": "53e8479d",
   "metadata": {},
   "outputs": [
    {
     "data": {
      "text/plain": [
       "pandas.core.series.Series"
      ]
     },
     "execution_count": 52,
     "metadata": {},
     "output_type": "execute_result"
    }
   ],
   "source": [
    "type(list_notes)"
   ]
  },
  {
   "cell_type": "markdown",
   "id": "b5b92499",
   "metadata": {},
   "source": [
    "### Pd series with Dictionary (Sözlük) ;"
   ]
  },
  {
   "cell_type": "code",
   "execution_count": 56,
   "id": "0f338e08",
   "metadata": {},
   "outputs": [],
   "source": [
    "football_scores_seasontime_gs={\"icardi\":852,\"Muslera\":1265,\"Sasha_Boey\":652}"
   ]
  },
  {
   "cell_type": "code",
   "execution_count": 62,
   "id": "64c32df8",
   "metadata": {},
   "outputs": [
    {
     "data": {
      "text/plain": [
       "icardi         852\n",
       "Muslera       1265\n",
       "Sasha_Boey     652\n",
       "dtype: int64"
      ]
     },
     "execution_count": 62,
     "metadata": {},
     "output_type": "execute_result"
    }
   ],
   "source": [
    "season=pd.Series(data=football_scores_seasontime_gs)\n",
    "season"
   ]
  },
  {
   "cell_type": "code",
   "execution_count": 63,
   "id": "93f17194",
   "metadata": {},
   "outputs": [
    {
     "data": {
      "text/plain": [
       "852"
      ]
     },
     "execution_count": 63,
     "metadata": {},
     "output_type": "execute_result"
    }
   ],
   "source": [
    "season[\"icardi\"]"
   ]
  },
  {
   "cell_type": "code",
   "execution_count": 64,
   "id": "59c25aa9",
   "metadata": {},
   "outputs": [],
   "source": [
    "# Numpy array ile pandas serileri oluşturma "
   ]
  },
  {
   "cell_type": "code",
   "execution_count": 65,
   "id": "d58c66ea",
   "metadata": {},
   "outputs": [],
   "source": [
    "Customers=np.array([\"Mustafa\",\"Clark\",\"Joseph\"])\n",
    "Orders_price=np.array([1200,522,633])"
   ]
  },
  {
   "cell_type": "code",
   "execution_count": 69,
   "id": "2aca21a1",
   "metadata": {},
   "outputs": [
    {
     "data": {
      "text/plain": [
       "Mustafa    1200.0\n",
       "Clark       522.0\n",
       "Joseph      633.0\n",
       "dtype: float64"
      ]
     },
     "execution_count": 69,
     "metadata": {},
     "output_type": "execute_result"
    }
   ],
   "source": [
    "Customers_series=pd.Series(data=Orders_price,index=Customers,dtype=float,copy=True)\n",
    "Customers_series"
   ]
  },
  {
   "cell_type": "code",
   "execution_count": 70,
   "id": "3a3f1b93",
   "metadata": {},
   "outputs": [
    {
     "data": {
      "text/plain": [
       "dtype('float64')"
      ]
     },
     "execution_count": 70,
     "metadata": {},
     "output_type": "execute_result"
    }
   ],
   "source": [
    "Customers_series.dtype\n"
   ]
  },
  {
   "cell_type": "code",
   "execution_count": 71,
   "id": "5ccc5f44",
   "metadata": {},
   "outputs": [
    {
     "data": {
      "text/plain": [
       "1"
      ]
     },
     "execution_count": 71,
     "metadata": {},
     "output_type": "execute_result"
    }
   ],
   "source": [
    "Customers.ndim"
   ]
  },
  {
   "cell_type": "code",
   "execution_count": 73,
   "id": "f5d51f07",
   "metadata": {},
   "outputs": [
    {
     "data": {
      "text/plain": [
       "Mustafa    1200.0\n",
       "Clark       522.0\n",
       "dtype: float64"
      ]
     },
     "execution_count": 73,
     "metadata": {},
     "output_type": "execute_result"
    }
   ],
   "source": [
    "# .head()----> dizinin ilk 5 elemanını\n",
    "#.tail()----> dizinin son 5 elemanını getirir. Parantez içerisine eğer sayı  yazılırsa o kadar değer karşımıza çıkar.\n",
    "\n",
    "Customers_series.head(2)"
   ]
  },
  {
   "cell_type": "code",
   "execution_count": 74,
   "id": "2274ff78",
   "metadata": {},
   "outputs": [
    {
     "data": {
      "text/plain": [
       "Joseph    633.0\n",
       "dtype: float64"
      ]
     },
     "execution_count": 74,
     "metadata": {},
     "output_type": "execute_result"
    }
   ],
   "source": [
    "Customers_series.tail(1)"
   ]
  },
  {
   "cell_type": "code",
   "execution_count": 76,
   "id": "db3c8520",
   "metadata": {},
   "outputs": [
    {
     "data": {
      "text/plain": [
       "Clark       522.0\n",
       "Joseph      633.0\n",
       "Mustafa    1200.0\n",
       "dtype: float64"
      ]
     },
     "execution_count": 76,
     "metadata": {},
     "output_type": "execute_result"
    }
   ],
   "source": [
    "Customers_series.sort_index()"
   ]
  },
  {
   "cell_type": "code",
   "execution_count": null,
   "id": "20a68d7c",
   "metadata": {},
   "outputs": [],
   "source": []
  }
 ],
 "metadata": {
  "kernelspec": {
   "display_name": "Python 3 (ipykernel)",
   "language": "python",
   "name": "python3"
  },
  "language_info": {
   "codemirror_mode": {
    "name": "ipython",
    "version": 3
   },
   "file_extension": ".py",
   "mimetype": "text/x-python",
   "name": "python",
   "nbconvert_exporter": "python",
   "pygments_lexer": "ipython3",
   "version": "3.11.5"
  }
 },
 "nbformat": 4,
 "nbformat_minor": 5
}
