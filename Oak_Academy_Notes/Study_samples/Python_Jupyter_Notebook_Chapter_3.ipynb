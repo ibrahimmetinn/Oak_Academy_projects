{
 "cells": [
  {
   "cell_type": "markdown",
   "id": "6f08009e",
   "metadata": {},
   "source": [
    "## LIST (Bölüm 12-15 )"
   ]
  },
  {
   "cell_type": "code",
   "execution_count": 11,
   "id": "a35e18a4",
   "metadata": {},
   "outputs": [
    {
     "name": "stdout",
     "output_type": "stream",
     "text": [
      "['Milan', 'Inter', 'Juventus', 'Napoli', 'Lazio']\n"
     ]
    },
    {
     "data": {
      "text/plain": [
       "list"
      ]
     },
     "execution_count": 11,
     "metadata": {},
     "output_type": "execute_result"
    }
   ],
   "source": [
    "seria_a=[\"Milan\",\"Inter\",\"Juventus\",\"Napoli\",\"Lazio\"]\n",
    "print(seria_a)\n",
    "type(seria_a)"
   ]
  },
  {
   "cell_type": "code",
   "execution_count": 8,
   "id": "872bdd9b",
   "metadata": {},
   "outputs": [],
   "source": [
    "list_example=[2,\"sea\",587,88.55,[52,55],seria_a]"
   ]
  },
  {
   "cell_type": "code",
   "execution_count": 9,
   "id": "48a143ef",
   "metadata": {},
   "outputs": [
    {
     "data": {
      "text/plain": [
       "[2,\n",
       " 'sea',\n",
       " 587,\n",
       " 88.55,\n",
       " [52, 55],\n",
       " ['Milan', 'Inter', 'Juventus', 'Napoli', 'Lazio']]"
      ]
     },
     "execution_count": 9,
     "metadata": {},
     "output_type": "execute_result"
    }
   ],
   "source": [
    "list_example"
   ]
  },
  {
   "cell_type": "markdown",
   "id": "f716bea5",
   "metadata": {},
   "source": [
    "# indexleme\n"
   ]
  },
  {
   "cell_type": "code",
   "execution_count": 12,
   "id": "1a4f87a5",
   "metadata": {},
   "outputs": [
    {
     "data": {
      "text/plain": [
       "'Milan'"
      ]
     },
     "execution_count": 12,
     "metadata": {},
     "output_type": "execute_result"
    }
   ],
   "source": [
    "seria_a[0]"
   ]
  },
  {
   "cell_type": "code",
   "execution_count": 13,
   "id": "373159f1",
   "metadata": {},
   "outputs": [],
   "source": [
    "eng_word=[\"Reason\",[\"Examples\",\"Samples\"],\"Prefix\"]"
   ]
  },
  {
   "cell_type": "code",
   "execution_count": 14,
   "id": "6be00d9a",
   "metadata": {},
   "outputs": [
    {
     "data": {
      "text/plain": [
       "'Reason'"
      ]
     },
     "execution_count": 14,
     "metadata": {},
     "output_type": "execute_result"
    }
   ],
   "source": [
    "eng_word[0]"
   ]
  },
  {
   "cell_type": "code",
   "execution_count": 15,
   "id": "1c42bd36",
   "metadata": {},
   "outputs": [
    {
     "data": {
      "text/plain": [
       "['Examples', 'Samples']"
      ]
     },
     "execution_count": 15,
     "metadata": {},
     "output_type": "execute_result"
    }
   ],
   "source": [
    "eng_word[1]"
   ]
  },
  {
   "cell_type": "code",
   "execution_count": 16,
   "id": "eb426a4b",
   "metadata": {},
   "outputs": [
    {
     "data": {
      "text/plain": [
       "'Samples'"
      ]
     },
     "execution_count": 16,
     "metadata": {},
     "output_type": "execute_result"
    }
   ],
   "source": [
    "eng_word[1][1]"
   ]
  },
  {
   "cell_type": "code",
   "execution_count": 17,
   "id": "ee48922c",
   "metadata": {},
   "outputs": [
    {
     "ename": "IndexError",
     "evalue": "list index out of range",
     "output_type": "error",
     "traceback": [
      "\u001b[1;31m---------------------------------------------------------------------------\u001b[0m",
      "\u001b[1;31mIndexError\u001b[0m                                Traceback (most recent call last)",
      "Cell \u001b[1;32mIn[17], line 1\u001b[0m\n\u001b[1;32m----> 1\u001b[0m eng_word[\u001b[38;5;241m5\u001b[39m]\n",
      "\u001b[1;31mIndexError\u001b[0m: list index out of range"
     ]
    }
   ],
   "source": [
    "eng_word[5]\n",
    "#out of range yani aralık dışı hatası verdi\n"
   ]
  },
  {
   "cell_type": "code",
   "execution_count": 19,
   "id": "91d71094",
   "metadata": {},
   "outputs": [
    {
     "data": {
      "text/plain": [
       "['Prefix', ['Examples', 'Samples'], 'Reason']"
      ]
     },
     "execution_count": 19,
     "metadata": {},
     "output_type": "execute_result"
    }
   ],
   "source": [
    "eng_word[::-1]"
   ]
  },
  {
   "cell_type": "code",
   "execution_count": 20,
   "id": "a65f447a",
   "metadata": {},
   "outputs": [],
   "source": [
    "eng_word=eng_word+[\"Celebrate\"]"
   ]
  },
  {
   "cell_type": "code",
   "execution_count": 22,
   "id": "fbec9cc6",
   "metadata": {},
   "outputs": [
    {
     "data": {
      "text/plain": [
       "['Celebrate', 'Prefix', ['Examples', 'Samples'], 'Reason']"
      ]
     },
     "execution_count": 22,
     "metadata": {},
     "output_type": "execute_result"
    }
   ],
   "source": [
    "eng_word[::-1]"
   ]
  },
  {
   "cell_type": "code",
   "execution_count": 23,
   "id": "e98079a6",
   "metadata": {},
   "outputs": [],
   "source": [
    "eng_word[0]=\"Argue\""
   ]
  },
  {
   "cell_type": "code",
   "execution_count": 24,
   "id": "67f98870",
   "metadata": {},
   "outputs": [
    {
     "data": {
      "text/plain": [
       "['Argue', ['Examples', 'Samples'], 'Prefix', 'Celebrate']"
      ]
     },
     "execution_count": 24,
     "metadata": {},
     "output_type": "execute_result"
    }
   ],
   "source": [
    "eng_word"
   ]
  },
  {
   "cell_type": "code",
   "execution_count": 30,
   "id": "383b750a",
   "metadata": {},
   "outputs": [
    {
     "name": "stdout",
     "output_type": "stream",
     "text": [
      "['Argue', ['Examples', 'Samples'], 'Anniversary', 'Decoding', 'Decoding', 'Anniversary', 'Decoding', 'Decoding', 'Decoding', 'Decoding', 'Celebrate']\n"
     ]
    }
   ],
   "source": [
    "eng_word[2:3]=\"Anniversary\",\"Decoding\"\n",
    "print(eng_word)"
   ]
  },
  {
   "cell_type": "markdown",
   "id": "f34397bc",
   "metadata": {},
   "source": [
    "#### Silme işlemi\n"
   ]
  },
  {
   "cell_type": "code",
   "execution_count": 32,
   "id": "9a87a53c",
   "metadata": {},
   "outputs": [
    {
     "name": "stdout",
     "output_type": "stream",
     "text": [
      "['Argue', ['Examples', 'Samples'], 'Anniversary', 'Decoding']\n"
     ]
    }
   ],
   "source": [
    "del eng_word[4:9]\n",
    "print(eng_word)"
   ]
  },
  {
   "cell_type": "code",
   "execution_count": 33,
   "id": "573f9cb2",
   "metadata": {},
   "outputs": [],
   "source": [
    "del eng_word[3]"
   ]
  },
  {
   "cell_type": "code",
   "execution_count": 34,
   "id": "2dd153eb",
   "metadata": {},
   "outputs": [
    {
     "data": {
      "text/plain": [
       "['Argue', ['Examples', 'Samples'], 'Anniversary']"
      ]
     },
     "execution_count": 34,
     "metadata": {},
     "output_type": "execute_result"
    }
   ],
   "source": [
    "eng_word"
   ]
  },
  {
   "cell_type": "markdown",
   "id": "a80ad5ec",
   "metadata": {},
   "source": [
    "# __Listelere Uygulanacak Methodlar__\n",
    "___DİP NOT: dir() yazdığımızda __ ile çıkan lar kullanılmıyor___"
   ]
  },
  {
   "cell_type": "markdown",
   "id": "46338762",
   "metadata": {},
   "source": [
    "Metod\tAçıklama\n",
    "\n",
    "__append__\tListenin sonuna bir öğe ekler.\n",
    "\n",
    "__clear__\tListenin içeriğini temizler (tüm öğeleri siler).\n",
    "\n",
    "__copy__\tListenin bir kopyasını döndürür.\n",
    "\n",
    "__count__\tBelirtilen öğenin listenin içinde kaç kez geçtiğini sayar.\n",
    "\n",
    "__extend__\tBir listenin sonuna başka bir listenin öğelerini ekler.\n",
    "\n",
    "__index__\tBelirtilen öğenin ilk bulunduğu konumu döndürür.\n",
    "\n",
    "__insert__\tBelirtilen konuma bir öğe ekler.\n",
    "\n",
    "__pop__\tBelirtilen konumdaki öğeyi çıkarır ve döndürür.\n",
    "\n",
    "\n",
    "__remove__\tBelirtilen öğeyi listeden kaldırır.\n",
    "\n",
    "__reverse__\tListenin sırasını tersine çevirir.\n",
    "\n",
    "__sort__\tListenin öğelerini sıralar.\n"
   ]
  },
  {
   "cell_type": "code",
   "execution_count": 40,
   "id": "84d6948f",
   "metadata": {},
   "outputs": [],
   "source": [
    "eng_word2=[\"Any\",\"Some\",\"Every\",\"Another\"]"
   ]
  },
  {
   "cell_type": "code",
   "execution_count": 42,
   "id": "f9bd91db",
   "metadata": {},
   "outputs": [
    {
     "data": {
      "text/plain": [
       "['Any', 'Some', 'Every', 'Another', 'Adaption', 'Adaption']"
      ]
     },
     "execution_count": 42,
     "metadata": {},
     "output_type": "execute_result"
    }
   ],
   "source": [
    "eng_word2.append(\"Adaption\")\n",
    "eng_word2"
   ]
  },
  {
   "cell_type": "code",
   "execution_count": 48,
   "id": "2783b93b",
   "metadata": {},
   "outputs": [
    {
     "name": "stdout",
     "output_type": "stream",
     "text": [
      "['I', 'you', 'We']\n",
      "silindi []\n"
     ]
    }
   ],
   "source": [
    "eng_word3=[\"I\",\"you\",\"We\"]\n",
    "print(eng_word3)\n",
    "eng_word3.clear()\n",
    "print(\"silindi\",eng_word3)"
   ]
  },
  {
   "cell_type": "code",
   "execution_count": 49,
   "id": "7ea3ee8e",
   "metadata": {},
   "outputs": [
    {
     "name": "stdout",
     "output_type": "stream",
     "text": [
      "['Any', 'Some', 'Every', 'Another', 'Adaption', 'Adaption']\n"
     ]
    }
   ],
   "source": [
    "eng_word3=eng_word2.copy()\n",
    "print(eng_word3)"
   ]
  },
  {
   "cell_type": "code",
   "execution_count": 52,
   "id": "8b4249d3",
   "metadata": {},
   "outputs": [
    {
     "data": {
      "text/plain": [
       "2"
      ]
     },
     "execution_count": 52,
     "metadata": {},
     "output_type": "execute_result"
    }
   ],
   "source": [
    "eng_word3.count(\"Adaption\")"
   ]
  },
  {
   "cell_type": "code",
   "execution_count": 54,
   "id": "55d7d5b1",
   "metadata": {},
   "outputs": [
    {
     "name": "stdout",
     "output_type": "stream",
     "text": [
      "['Argue', ['Examples', 'Samples'], 'Anniversary', 'Any', 'Some', 'Every', 'Another', 'Adaption', 'Adaption', 'Any', 'Some', 'Every', 'Another', 'Adaption', 'Adaption']\n"
     ]
    }
   ],
   "source": [
    "eng_word.extend(eng_word2)\n",
    "print(eng_word)"
   ]
  },
  {
   "cell_type": "code",
   "execution_count": 56,
   "id": "1dd64bc5",
   "metadata": {},
   "outputs": [
    {
     "name": "stdout",
     "output_type": "stream",
     "text": [
      "['Argue', ['Examples', 'Samples'], 'Anniversary', 'Any', 'Some', 'Every', 'Another', 'Adaption']\n"
     ]
    }
   ],
   "source": [
    "##del eng_word[8:]\n",
    "print(eng_word)"
   ]
  },
  {
   "cell_type": "markdown",
   "id": "c656af1a",
   "metadata": {},
   "source": [
    "### kaçıncı indexte olduğunu gösteriyor."
   ]
  },
  {
   "cell_type": "code",
   "execution_count": 63,
   "id": "91d5aa7e",
   "metadata": {},
   "outputs": [
    {
     "name": "stdout",
     "output_type": "stream",
     "text": [
      "3\n",
      "2\n"
     ]
    }
   ],
   "source": [
    "\n",
    "print(eng_word.index(\"Any\"))\n",
    "\n",
    "print(eng_word.index(\"Anniversary\"));"
   ]
  },
  {
   "cell_type": "code",
   "execution_count": 66,
   "id": "adb76d44",
   "metadata": {},
   "outputs": [
    {
     "name": "stdout",
     "output_type": "stream",
     "text": [
      "['Pipelline', 'Pipelline', 'Argue', ['Examples', 'Samples'], 'Anniversary', 'Any', 'Some', 'Every', 'Another', 'Adaption']\n"
     ]
    }
   ],
   "source": [
    "#ekleme yapar\n",
    "eng_word.insert(0,\"Pipelline\")\n",
    "print(eng_word)"
   ]
  },
  {
   "cell_type": "code",
   "execution_count": 76,
   "id": "aa79b70c",
   "metadata": {},
   "outputs": [
    {
     "name": "stdout",
     "output_type": "stream",
     "text": [
      "['Pipelline', 'Pipelline', 'Argue', ['Examples', 'Samples'], 'Anniversary', 'Any', 'Some', 'Every', 'Another', 'Adaption']\n",
      "----------------------------------------------------------\n",
      "2 kez tıklayın ve listenin sırasının değiştiğini görün-\n"
     ]
    }
   ],
   "source": [
    "print(eng_word[::-1])\n",
    "print(\"----------------------------------------------------------\")\n",
    "print(\"2 kez tıklayın ve listenin sırasının değiştiğini görün-\")\n",
    "eng_word.reverse()"
   ]
  },
  {
   "cell_type": "code",
   "execution_count": 90,
   "id": "fa38ca96",
   "metadata": {},
   "outputs": [
    {
     "name": "stdout",
     "output_type": "stream",
     "text": [
      "Sıralı: Büyükten küçüğe [69584, 5855, 2995, 2181, 484, 262, 255, 55]\n",
      "Sıralı: Küçükten büyüğe [55, 255, 262, 484, 2181, 2995, 5855, 69584]\n"
     ]
    }
   ],
   "source": [
    "numbers=[55,262,2181,484,2995,69584,5855,255]\n",
    "# . dan sonra tab tuşuna basarsak o tuş ile alakalı kullanılacak methodlar karşımıza çıkacaktır.\n",
    "numbers.sort(reverse=True)\n",
    "\n",
    "print(\"Sıralı: Büyükten küçüğe\",numbers)\n",
    "numbers.sort()\n",
    "print(\"Sıralı: Küçükten büyüğe\",numbers)"
   ]
  },
  {
   "cell_type": "markdown",
   "id": "728f1a04",
   "metadata": {},
   "source": [
    "# Tupple()\n",
    "***İmmutuble yani değiştirilemezler***\n",
    "\n",
    "__count__\tBelirtilen öğenin listenin içinde kaç kez geçtiğini sayar.\n",
    "\n",
    "__index__\tBelirtilen öğenin ilk bulunduğu konumu döndürür.\n"
   ]
  },
  {
   "cell_type": "code",
   "execution_count": 95,
   "id": "344e0afc",
   "metadata": {},
   "outputs": [
    {
     "data": {
      "text/plain": [
       "tuple"
      ]
     },
     "execution_count": 95,
     "metadata": {},
     "output_type": "execute_result"
    }
   ],
   "source": [
    "new_tupe=(\"a\",\"b\",\"c\")\n",
    "type(new_tupe)"
   ]
  },
  {
   "cell_type": "code",
   "execution_count": 97,
   "id": "b73ee7d3",
   "metadata": {},
   "outputs": [
    {
     "data": {
      "text/plain": [
       "('W', 'e', 'a', 'l', 't', 'h', ':', ' ', 'V', 'a', 'r', 'l', 'ı', 'k')"
      ]
     },
     "execution_count": 97,
     "metadata": {},
     "output_type": "execute_result"
    }
   ],
   "source": [
    "tuple2=tuple(\"Wealth: Varlık\")\n",
    "tuple2"
   ]
  },
  {
   "cell_type": "code",
   "execution_count": 98,
   "id": "3d621ad0",
   "metadata": {},
   "outputs": [],
   "source": [
    "eng_tuple=(\"Wealth\",\"Almost\",\"Custom\",\"Instructions\")"
   ]
  },
  {
   "cell_type": "code",
   "execution_count": 99,
   "id": "564531a8",
   "metadata": {},
   "outputs": [
    {
     "data": {
      "text/plain": [
       "('Wealth', 'Almost')"
      ]
     },
     "execution_count": 99,
     "metadata": {},
     "output_type": "execute_result"
    }
   ],
   "source": [
    "#köşeli parantez ile istediğimiz indexten istediğimiz değeri getirebiliyoruz.\n",
    "eng_tuple[0:2]"
   ]
  },
  {
   "cell_type": "markdown",
   "id": "33da3004",
   "metadata": {},
   "source": [
    "# Dictionary (Sözlük) Yapısı\n",
    "__{KEY:VALUE}__\n",
    "\n",
    "dict()"
   ]
  },
  {
   "cell_type": "code",
   "execution_count": 100,
   "id": "058e3278",
   "metadata": {},
   "outputs": [],
   "source": [
    "first_dict={\"Therefore\":\"Bu nedenle\",\"Stand\":\"Ayakta kalmak\",\"Make\":\"Yapmak\",\"actually\":\"aslında\"}"
   ]
  },
  {
   "cell_type": "code",
   "execution_count": 108,
   "id": "c60ea2a4",
   "metadata": {},
   "outputs": [
    {
     "name": "stdout",
     "output_type": "stream",
     "text": [
      "Hello Ayakta kalmak\n"
     ]
    }
   ],
   "source": [
    "print(f\"Hello {first_dict['Stand']}\")\n",
    "#print(f\"Hello {first_dict['Stand']}\")\n"
   ]
  },
  {
   "cell_type": "markdown",
   "id": "676e21ad",
   "metadata": {},
   "source": [
    "#### dir(dict)\n",
    "\n",
    "__clear()__: Sözlüğün içindeki tüm öğeleri siler, boş bir sözlük bırakır.\n",
    "\n",
    "__copy()__: Sözlüğün bir kopyasını oluşturur.\n",
    "\n",
    "__fromkeys(iterable, value=None)__: Belirtilen anahtarların bir sözlükte belirtilen bir değerle eşleştiği yeni bir sözlük oluşturur.\n",
    "\n",
    "__get(key, default=None)__: Belirtilen anahtarı arar ve bulunursa karşılık gelen değeri döndürür, bulunamazsa varsayılan değeri döndürür.\n",
    "\n",
    "__items()__: Sözlükteki tüm öğelerin anahtar-değer çiftlerini içeren bir görünüm (view) nesnesi döndürür.\n",
    "\n",
    "__keys()__: Sözlükteki tüm anahtarları içeren bir görünüm (view) nesnesi döndürür.\n",
    "\n",
    "__pop(key, default=None)__: Belirtilen anahtarı arar, bulunursa değeri döndürür ve anahtarı sözlükten çıkar. Bulunamazsa varsayılan değeri döndürür.\n",
    "\n",
    "__popitem()__: Sözlükten bir anahtar-değer çiftini rastgele çıkarır ve bu çifti bir tuple olarak döndürür.\n",
    "\n",
    "__setdefault(key, default=None)__: Belirtilen anahtarı arar, bulunursa değeri döndürür, bulunamazsa sözlüğe anahtarı ve varsayılan değeri ekler, ardından varsayılan değeri döndürür.\n",
    "\n",
    "__update(iterable)__: Bir sözlüğü başka bir sözlükle günceller veya anahtar-değer çiftlerini belirtilen iterable'dan alarak sözlüğü günceller.\n",
    "\n",
    "__values()__: Sözlükteki tüm değerleri içeren bir görünüm (view) nesnesi döndürür."
   ]
  },
  {
   "cell_type": "code",
   "execution_count": 144,
   "id": "25158850",
   "metadata": {},
   "outputs": [],
   "source": [
    "#sözlük içinde sözlük\n",
    "film={\"drama\":{\"piyanist\":85,\n",
    "              'superman':70,\n",
    "              'batman': 70}}"
   ]
  },
  {
   "cell_type": "code",
   "execution_count": 126,
   "id": "455b27a4",
   "metadata": {},
   "outputs": [
    {
     "data": {
      "text/plain": [
       "dict_items([('drama', {'piyanist': 85, 'superman': 70, 'batman': 70})])"
      ]
     },
     "execution_count": 126,
     "metadata": {},
     "output_type": "execute_result"
    }
   ],
   "source": [
    "#items\n",
    "film.items()"
   ]
  },
  {
   "cell_type": "code",
   "execution_count": 130,
   "id": "047b3a62",
   "metadata": {},
   "outputs": [
    {
     "name": "stdout",
     "output_type": "stream",
     "text": [
      "['drama']\n"
     ]
    }
   ],
   "source": [
    "#keys\n",
    "list1=list(film.keys())\n",
    "print(list1)"
   ]
  },
  {
   "cell_type": "code",
   "execution_count": 145,
   "id": "ce2d8c88",
   "metadata": {},
   "outputs": [
    {
     "data": {
      "text/plain": [
       "{'drama': {'piyanist': 85, 'superman': 70, 'batman': 70}}"
      ]
     },
     "execution_count": 145,
     "metadata": {},
     "output_type": "execute_result"
    }
   ],
   "source": [
    "#pop\n",
    "film"
   ]
  },
  {
   "cell_type": "code",
   "execution_count": null,
   "id": "bb55bb4f",
   "metadata": {},
   "outputs": [],
   "source": [
    "film."
   ]
  },
  {
   "cell_type": "code",
   "execution_count": 113,
   "id": "d0bc5809",
   "metadata": {},
   "outputs": [
    {
     "data": {
      "text/plain": [
       "{'drama': {'piyanist': 85, 'django': 88}}"
      ]
     },
     "execution_count": 113,
     "metadata": {},
     "output_type": "execute_result"
    }
   ],
   "source": [
    "#eleman ekleme\n",
    "film[\"drama\"][\"django\"]=88\n",
    "film"
   ]
  },
  {
   "cell_type": "code",
   "execution_count": 114,
   "id": "3b0e1793",
   "metadata": {},
   "outputs": [],
   "source": [
    "#eleman değiştirme\n",
    "film[\"drama\"][\"piyanist\"]=70"
   ]
  },
  {
   "cell_type": "code",
   "execution_count": 115,
   "id": "d95b5829",
   "metadata": {},
   "outputs": [
    {
     "data": {
      "text/plain": [
       "{'drama': {'piyanist': 70, 'django': 88}}"
      ]
     },
     "execution_count": 115,
     "metadata": {},
     "output_type": "execute_result"
    }
   ],
   "source": [
    "film"
   ]
  },
  {
   "cell_type": "code",
   "execution_count": 116,
   "id": "afb7ef90",
   "metadata": {},
   "outputs": [],
   "source": [
    "#eleman silme\n",
    "del film[\"drama\"][\"django\"]"
   ]
  },
  {
   "cell_type": "code",
   "execution_count": 117,
   "id": "bd58b457",
   "metadata": {},
   "outputs": [
    {
     "data": {
      "text/plain": [
       "{'drama': {'piyanist': 70}}"
      ]
     },
     "execution_count": 117,
     "metadata": {},
     "output_type": "execute_result"
    }
   ],
   "source": [
    "film"
   ]
  },
  {
   "cell_type": "markdown",
   "id": "a9b2280f",
   "metadata": {},
   "source": [
    "## set() küme oluşturma"
   ]
  },
  {
   "cell_type": "markdown",
   "id": "01476cb9",
   "metadata": {},
   "source": [
    "__add__: Kümeye yeni bir öğe ekler.\n",
    "\n",
    "__clear__: Kümenin tüm öğelerini temizler, boş bir küme bırakır.\n",
    "\n",
    "__copy__: Kümenin bir kopyasını oluşturur.\n",
    "\n",
    "__difference__: İki kümenin farkını döndürür.\n",
    "\n",
    "__difference_update__: İki kümenin farkını alır ve küme üzerine günceller.\n",
    "\n",
    "__discard__: Belirtilen bir öğeyi kümeden çıkarır.\n",
    "\n",
    "__intersection__: İki kümenin kesişimini döndürür.\n",
    "\n",
    "__intersection_update__: İki kümenin kesişimini alır ve küme üzerine günceller.\n",
    "\n",
    "__isdisjoint__: İki küme arasında kesişim olup olmadığını kontrol eder.\n",
    "\n",
    "__issubset__: Bir kümenin diğer bir kümenin alt kümesi olup olmadığını kontrol eder.\n",
    "\n",
    "__issuperset__: Bir kümenin diğer bir kümenin üst kümesi olup olmadığını kontrol eder.\n",
    "\n",
    "__pop__: Kümeden bir öğe çıkarır ve geri döndürür.\n",
    "\n",
    "__remove__: Belirtilen bir öğeyi kümeden çıkarır, ancak öğe bulunmazsa KeyError hatası verir.\n",
    "\n",
    "__symmetric_difference__: İki kümenin simetrik farkını döndürür.\n",
    "\n",
    "__symmetric_difference_update__: İki kümenin simetrik farkını alır ve küme üzerine günceller.\n",
    "\n",
    "__union__: İki kümenin birleşimini döndürür.\n",
    "\n",
    "__update__: Bir kümenin diğer küme ile birleşimini alır ve küme üzerine günceller."
   ]
  },
  {
   "cell_type": "code",
   "execution_count": 6,
   "id": "29021659",
   "metadata": {},
   "outputs": [],
   "source": [
    "set_1=set([\"ınvolve\",\"combine\",52])"
   ]
  },
  {
   "cell_type": "code",
   "execution_count": 3,
   "id": "f4de26ab",
   "metadata": {},
   "outputs": [
    {
     "data": {
      "text/plain": [
       "{'combine', 'ınvolve'}"
      ]
     },
     "execution_count": 3,
     "metadata": {},
     "output_type": "execute_result"
    }
   ],
   "source": [
    "set_1"
   ]
  },
  {
   "cell_type": "code",
   "execution_count": 9,
   "id": "39dc87e9",
   "metadata": {},
   "outputs": [],
   "source": [
    "#Numeric değerler set edilemez\n",
    "set_2=set(\"se\")\n"
   ]
  },
  {
   "cell_type": "code",
   "execution_count": 13,
   "id": "59ece214",
   "metadata": {},
   "outputs": [],
   "source": [
    "tuple_1=(\"data\",\"boil\",\"Pollite\",\"data\")"
   ]
  },
  {
   "cell_type": "code",
   "execution_count": 16,
   "id": "b3118174",
   "metadata": {},
   "outputs": [
    {
     "name": "stdout",
     "output_type": "stream",
     "text": [
      "{'data', 'boil', 'Pollite'}\n",
      "{'data', 'boil', 'Pollite'}\n",
      "<class 'set'>\n"
     ]
    }
   ],
   "source": [
    "#setler duplicate değerleri tek sayar \n",
    "set_2=set(tuple_1)\n",
    "print(set_2)\n",
    "print(set_2,type(set_2),sep=\"\\n\")"
   ]
  },
  {
   "cell_type": "code",
   "execution_count": 24,
   "id": "e55d886e",
   "metadata": {},
   "outputs": [
    {
     "data": {
      "text/plain": [
       "{'F', 'a', 'd', 'i', 'l', 'o', 'r'}"
      ]
     },
     "execution_count": 24,
     "metadata": {},
     "output_type": "execute_result"
    }
   ],
   "source": [
    "#Setlerde herhangi bir sıra yoktur.\n",
    "#setlerde indexleme yoktur. set_3[x] gibi bir sorgu yapamayız\n",
    "\n",
    "set_3=set(\"Florida\")\n",
    "set_3"
   ]
  },
  {
   "cell_type": "code",
   "execution_count": 49,
   "id": "1aa85e1d",
   "metadata": {},
   "outputs": [],
   "source": [
    "list_1=[\"Florida\",\"Miami\",\"San_Francisco\"]"
   ]
  },
  {
   "cell_type": "code",
   "execution_count": 51,
   "id": "7fdd9dbd",
   "metadata": {},
   "outputs": [
    {
     "name": "stdout",
     "output_type": "stream",
     "text": [
      "{'San_Francisco', 'Miami', 'New York'}\n"
     ]
    }
   ],
   "source": [
    "#add ve remove methodu\n",
    "set_4=set(list_1)\n",
    "set_4.add(\"New York\")\n",
    "set_4.remove(\"Florida\")\n",
    "print(set_4)"
   ]
  },
  {
   "cell_type": "code",
   "execution_count": 53,
   "id": "c56918bd",
   "metadata": {},
   "outputs": [
    {
     "data": {
      "text/plain": [
       "{'New York', 'San_Francisco'}"
      ]
     },
     "execution_count": 53,
     "metadata": {},
     "output_type": "execute_result"
    }
   ],
   "source": [
    "#differance\n",
    "list_2=[\"London\",\"Florida\",\"Miami\",\"Berlin\"]\n",
    "set_5=set(list_2)\n",
    "set_4.difference(set_5)"
   ]
  },
  {
   "cell_type": "code",
   "execution_count": 56,
   "id": "87b091ee",
   "metadata": {},
   "outputs": [
    {
     "data": {
      "text/plain": [
       "False"
      ]
     },
     "execution_count": 56,
     "metadata": {},
     "output_type": "execute_result"
    }
   ],
   "source": [
    "#isdisjoint: İki küme arasında kesişim olup olmadığını kontrol eder.\n",
    "set_5.isdisjoint(set_4)"
   ]
  },
  {
   "cell_type": "code",
   "execution_count": 1,
   "id": "cecc91b1",
   "metadata": {},
   "outputs": [],
   "source": [
    "#setlerde kesişim ve birleşim\n",
    "list10=[1,2,3,4,5,6]\n",
    "list20=[3,4,5,6,7,8]"
   ]
  },
  {
   "cell_type": "code",
   "execution_count": 2,
   "id": "848cb377",
   "metadata": {},
   "outputs": [],
   "source": [
    "set10=set(list10)\n",
    "set20=set(list20"
   ]
  },
  {
   "cell_type": "code",
   "execution_count": 3,
   "id": "39c164c1",
   "metadata": {},
   "outputs": [
    {
     "data": {
      "text/plain": [
       "{3, 4, 5, 6}"
      ]
     },
     "execution_count": 3,
     "metadata": {},
     "output_type": "execute_result"
    }
   ],
   "source": [
    "#İnner join yani kesişim\n",
    "set10.intersection(set20)"
   ]
  },
  {
   "cell_type": "code",
   "execution_count": 5,
   "id": "83649275",
   "metadata": {},
   "outputs": [
    {
     "data": {
      "text/plain": [
       "{1, 2, 3, 4, 5, 6, 7, 8}"
      ]
     },
     "execution_count": 5,
     "metadata": {},
     "output_type": "execute_result"
    }
   ],
   "source": [
    "#Full outer join\n",
    "set10.union(set20)"
   ]
  },
  {
   "cell_type": "code",
   "execution_count": 7,
   "id": "3dc0c140",
   "metadata": {},
   "outputs": [
    {
     "name": "stdout",
     "output_type": "stream",
     "text": [
      "{'data_science', 2, 15.6}\n"
     ]
    }
   ],
   "source": [
    "#tuplle küme\n",
    "tup1=(2,2,15.6,\"data_science\",\"data_science\")\n",
    "set1=set(tup1)\n",
    "print(set1)"
   ]
  }
 ],
 "metadata": {
  "kernelspec": {
   "display_name": "Python 3 (ipykernel)",
   "language": "python",
   "name": "python3"
  },
  "language_info": {
   "codemirror_mode": {
    "name": "ipython",
    "version": 3
   },
   "file_extension": ".py",
   "mimetype": "text/x-python",
   "name": "python",
   "nbconvert_exporter": "python",
   "pygments_lexer": "ipython3",
   "version": "3.11.5"
  }
 },
 "nbformat": 4,
 "nbformat_minor": 5
}
